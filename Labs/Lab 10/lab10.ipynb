{
 "cells": [
  {
   "cell_type": "markdown",
   "id": "durable-despite",
   "metadata": {},
   "source": [
    "# Lab 10: Anonymization Using K-Means Clustering"
   ]
  },
  {
   "cell_type": "code",
   "execution_count": 1,
   "id": "massive-cookie",
   "metadata": {},
   "outputs": [],
   "source": [
    "import pandas as pd\n",
    "import sklearn\n",
    "from sklearn.model_selection import train_test_split\n",
    "from sklearn import preprocessing\n",
    "\n",
    "from sklearn.neighbors import KNeighborsRegressor\n",
    "\n",
    "from sklearn.metrics import mean_squared_error, r2_score\n",
    "\n",
    "import matplotlib.pyplot as plt"
   ]
  },
  {
   "cell_type": "markdown",
   "id": "adjustable-equality",
   "metadata": {},
   "source": [
    "In this lab we will use some traffic data from Scotland. Each record consists of a traffic measurement at a particular location and time. We will try to predict the total amount of motor vehicle traffic (all_motor_vehicles), given other features such as hour, time, year, location coordinates, type of road, etc. "
   ]
  },
  {
   "cell_type": "code",
   "execution_count": 2,
   "id": "exempt-coverage",
   "metadata": {},
   "outputs": [],
   "source": [
    "df = pd.read_csv('scotland-traffic.csv', parse_dates=['count_date'])"
   ]
  },
  {
   "cell_type": "markdown",
   "id": "banner-trash",
   "metadata": {},
   "source": [
    "We will extract the month from the date and use that as a separate feature. We will also recode the road type. "
   ]
  },
  {
   "cell_type": "code",
   "execution_count": 3,
   "id": "informal-duplicate",
   "metadata": {},
   "outputs": [],
   "source": [
    "df['month'] = pd.DatetimeIndex(df['count_date']).month"
   ]
  },
  {
   "cell_type": "code",
   "execution_count": 4,
   "id": "religious-hepatitis",
   "metadata": {},
   "outputs": [],
   "source": [
    "df['road_type'] = df['road_type'] == 'Major'"
   ]
  },
  {
   "cell_type": "markdown",
   "id": "incorrect-shame",
   "metadata": {},
   "source": [
    "We'll get rid of the records that are missing the outcome variable. And for now we'll replace all other missing values with 0. "
   ]
  },
  {
   "cell_type": "code",
   "execution_count": 5,
   "id": "brutal-breed",
   "metadata": {},
   "outputs": [],
   "source": [
    "df = df[~df.all_motor_vehicles.isna()]\n",
    "df.fillna(0, inplace=True)"
   ]
  },
  {
   "cell_type": "code",
   "execution_count": 6,
   "id": "legitimate-dayton",
   "metadata": {},
   "outputs": [
    {
     "data": {
      "text/html": [
       "<div>\n",
       "<style scoped>\n",
       "    .dataframe tbody tr th:only-of-type {\n",
       "        vertical-align: middle;\n",
       "    }\n",
       "\n",
       "    .dataframe tbody tr th {\n",
       "        vertical-align: top;\n",
       "    }\n",
       "\n",
       "    .dataframe thead th {\n",
       "        text-align: right;\n",
       "    }\n",
       "</style>\n",
       "<table border=\"1\" class=\"dataframe\">\n",
       "  <thead>\n",
       "    <tr style=\"text-align: right;\">\n",
       "      <th></th>\n",
       "      <th>year</th>\n",
       "      <th>count_date</th>\n",
       "      <th>hour</th>\n",
       "      <th>road_type</th>\n",
       "      <th>latitude</th>\n",
       "      <th>longitude</th>\n",
       "      <th>link_length_km</th>\n",
       "      <th>pedal_cycles</th>\n",
       "      <th>two_wheeled_motor_vehicles</th>\n",
       "      <th>buses_and_coaches</th>\n",
       "      <th>all_motor_vehicles</th>\n",
       "      <th>month</th>\n",
       "    </tr>\n",
       "  </thead>\n",
       "  <tbody>\n",
       "    <tr>\n",
       "      <th>0</th>\n",
       "      <td>2005</td>\n",
       "      <td>2005-05-12</td>\n",
       "      <td>7</td>\n",
       "      <td>True</td>\n",
       "      <td>55.837029</td>\n",
       "      <td>-3.925646</td>\n",
       "      <td>8.4</td>\n",
       "      <td>0</td>\n",
       "      <td>2</td>\n",
       "      <td>10</td>\n",
       "      <td>3299</td>\n",
       "      <td>5</td>\n",
       "    </tr>\n",
       "    <tr>\n",
       "      <th>1</th>\n",
       "      <td>2005</td>\n",
       "      <td>2005-05-12</td>\n",
       "      <td>8</td>\n",
       "      <td>True</td>\n",
       "      <td>55.837029</td>\n",
       "      <td>-3.925646</td>\n",
       "      <td>8.4</td>\n",
       "      <td>0</td>\n",
       "      <td>4</td>\n",
       "      <td>5</td>\n",
       "      <td>2852</td>\n",
       "      <td>5</td>\n",
       "    </tr>\n",
       "    <tr>\n",
       "      <th>2</th>\n",
       "      <td>2005</td>\n",
       "      <td>2005-05-12</td>\n",
       "      <td>9</td>\n",
       "      <td>True</td>\n",
       "      <td>55.837029</td>\n",
       "      <td>-3.925646</td>\n",
       "      <td>8.4</td>\n",
       "      <td>0</td>\n",
       "      <td>4</td>\n",
       "      <td>18</td>\n",
       "      <td>2346</td>\n",
       "      <td>5</td>\n",
       "    </tr>\n",
       "    <tr>\n",
       "      <th>3</th>\n",
       "      <td>2005</td>\n",
       "      <td>2005-05-12</td>\n",
       "      <td>10</td>\n",
       "      <td>True</td>\n",
       "      <td>55.837029</td>\n",
       "      <td>-3.925646</td>\n",
       "      <td>8.4</td>\n",
       "      <td>0</td>\n",
       "      <td>10</td>\n",
       "      <td>17</td>\n",
       "      <td>2392</td>\n",
       "      <td>5</td>\n",
       "    </tr>\n",
       "    <tr>\n",
       "      <th>4</th>\n",
       "      <td>2005</td>\n",
       "      <td>2005-05-12</td>\n",
       "      <td>11</td>\n",
       "      <td>True</td>\n",
       "      <td>55.837029</td>\n",
       "      <td>-3.925646</td>\n",
       "      <td>8.4</td>\n",
       "      <td>0</td>\n",
       "      <td>4</td>\n",
       "      <td>12</td>\n",
       "      <td>1685</td>\n",
       "      <td>5</td>\n",
       "    </tr>\n",
       "  </tbody>\n",
       "</table>\n",
       "</div>"
      ],
      "text/plain": [
       "   year count_date  hour  road_type   latitude  longitude  link_length_km  \\\n",
       "0  2005 2005-05-12     7       True  55.837029  -3.925646             8.4   \n",
       "1  2005 2005-05-12     8       True  55.837029  -3.925646             8.4   \n",
       "2  2005 2005-05-12     9       True  55.837029  -3.925646             8.4   \n",
       "3  2005 2005-05-12    10       True  55.837029  -3.925646             8.4   \n",
       "4  2005 2005-05-12    11       True  55.837029  -3.925646             8.4   \n",
       "\n",
       "   pedal_cycles  two_wheeled_motor_vehicles  buses_and_coaches  \\\n",
       "0             0                           2                 10   \n",
       "1             0                           4                  5   \n",
       "2             0                           4                 18   \n",
       "3             0                          10                 17   \n",
       "4             0                           4                 12   \n",
       "\n",
       "   all_motor_vehicles  month  \n",
       "0                3299      5  \n",
       "1                2852      5  \n",
       "2                2346      5  \n",
       "3                2392      5  \n",
       "4                1685      5  "
      ]
     },
     "execution_count": 6,
     "metadata": {},
     "output_type": "execute_result"
    }
   ],
   "source": [
    "df.head()"
   ]
  },
  {
   "cell_type": "markdown",
   "id": "voluntary-count",
   "metadata": {},
   "source": [
    "## Predicting Number of Motor Vehicles, Given Other Features (No Anonymization)"
   ]
  },
  {
   "cell_type": "markdown",
   "id": "aboriginal-great",
   "metadata": {},
   "source": [
    "In our first experiment, we'll try to predict the amount of motor vehicle traffic using all of the other features, with no anonymization of the data. "
   ]
  },
  {
   "cell_type": "code",
   "execution_count": 7,
   "id": "enhanced-killing",
   "metadata": {},
   "outputs": [],
   "source": [
    "features = ['year', 'hour', 'month', 'latitude', 'longitude', 'link_length_km', 'pedal_cycles', 'two_wheeled_motor_vehicles', 'buses_and_coaches', 'road_type']\n",
    "\n",
    "X = df[features]"
   ]
  },
  {
   "cell_type": "code",
   "execution_count": 8,
   "id": "deluxe-joint",
   "metadata": {},
   "outputs": [],
   "source": [
    "y = df['all_motor_vehicles']"
   ]
  },
  {
   "cell_type": "markdown",
   "id": "enhanced-attribute",
   "metadata": {},
   "source": [
    "We'll rescale all of the features so that they will all fall within a similar range. "
   ]
  },
  {
   "cell_type": "code",
   "execution_count": 9,
   "id": "herbal-hartford",
   "metadata": {},
   "outputs": [],
   "source": [
    "X = preprocessing.StandardScaler().fit_transform(X)"
   ]
  },
  {
   "cell_type": "markdown",
   "id": "excessive-positive",
   "metadata": {},
   "source": [
    "We'll use 2/3 of the data for training and 1/3 for testing. "
   ]
  },
  {
   "cell_type": "code",
   "execution_count": 10,
   "id": "ambient-module",
   "metadata": {},
   "outputs": [],
   "source": [
    "X_train, X_test, y_train, y_test = train_test_split(X, y, test_size=0.33, random_state=42)"
   ]
  },
  {
   "cell_type": "markdown",
   "id": "german-growing",
   "metadata": {},
   "source": [
    "For now we'll use k-nearest neigbors regression. (yet another $k$ with yet another meaning)\n",
    "\n",
    "This is a very simple regression model that is often effective. Basically when we want to predict the value of the outcome variable for a test example, we find its $k$ nearest neighbours in the training set and predict the average of their values. \n",
    "\n",
    "You could also use linear regression, or a multi-layer perceptron, or a random forest model, for example. "
   ]
  },
  {
   "cell_type": "code",
   "execution_count": 11,
   "id": "bored-brunswick",
   "metadata": {},
   "outputs": [],
   "source": [
    "knn = KNeighborsRegressor(n_neighbors=10)"
   ]
  },
  {
   "cell_type": "code",
   "execution_count": 12,
   "id": "essential-prompt",
   "metadata": {},
   "outputs": [
    {
     "data": {
      "text/plain": [
       "KNeighborsRegressor(n_neighbors=10)"
      ]
     },
     "execution_count": 12,
     "metadata": {},
     "output_type": "execute_result"
    }
   ],
   "source": [
    "knn.fit(X_train, y_train)"
   ]
  },
  {
   "cell_type": "code",
   "execution_count": 13,
   "id": "loved-making",
   "metadata": {},
   "outputs": [],
   "source": [
    "preds = knn.predict(X_test)"
   ]
  },
  {
   "cell_type": "markdown",
   "id": "attempted-pointer",
   "metadata": {},
   "source": [
    "We're going to report an evaluation metric called the R2 score (or r-squared metric). Basically a value close to 1 is good as it means the predictive model explains much of the variance in the outcome variable. "
   ]
  },
  {
   "cell_type": "code",
   "execution_count": 14,
   "id": "photographic-syndrome",
   "metadata": {},
   "outputs": [
    {
     "name": "stdout",
     "output_type": "stream",
     "text": [
      "R2 Score (No Anonymization): 0.7825568558823538\n"
     ]
    }
   ],
   "source": [
    "r2_orig = r2_score(y_test, preds)\n",
    "print('R2 Score (No Anonymization):', r2_orig)"
   ]
  },
  {
   "cell_type": "markdown",
   "id": "laughing-enterprise",
   "metadata": {},
   "source": [
    "Not bad! We can compare the actual values with our predicted values. "
   ]
  },
  {
   "cell_type": "code",
   "execution_count": 15,
   "id": "floating-tuesday",
   "metadata": {},
   "outputs": [
    {
     "data": {
      "image/png": "[encoded data removed]",
      "text/plain": [
       "<Figure size 432x288 with 1 Axes>"
      ]
     },
     "metadata": {
      "needs_background": "light"
     },
     "output_type": "display_data"
    }
   ],
   "source": [
    "plt.figure()\n",
    "plt.scatter(y_test, preds)\n",
    "plt.xlabel('actual number of motor vehicles')\n",
    "plt.ylabel('predicted number of motor vehicles')\n",
    "plt.show()"
   ]
  },
  {
   "cell_type": "markdown",
   "id": "virtual-focus",
   "metadata": {},
   "source": [
    "# Predicting Number of Motor Vehicles (With Anonymized Data)"
   ]
  },
  {
   "cell_type": "markdown",
   "id": "communist-respect",
   "metadata": {},
   "source": [
    "Now we'll try anonymizing the data using k-means clustering, and then trying the same prediction tasks on the anonymized data. "
   ]
  },
  {
   "cell_type": "code",
   "execution_count": 24,
   "id": "pretty-mining",
   "metadata": {},
   "outputs": [],
   "source": [
    "from sklearn.cluster import KMeans\n",
    "from sklearn import linear_model"
   ]
  },
  {
   "cell_type": "markdown",
   "id": "rising-stockholm",
   "metadata": {},
   "source": [
    "We'll first attempt this with 20 clusters. That's a really low value for this dataset. Each cluster will end up having a large number of observations and the dataset will end up being heavily modified as a result. "
   ]
  },
  {
   "cell_type": "code",
   "execution_count": 17,
   "id": "ranking-premiere",
   "metadata": {},
   "outputs": [],
   "source": [
    "k = 20\n",
    "kmeans = KMeans(n_clusters=k, random_state=0).fit(X)"
   ]
  },
  {
   "cell_type": "markdown",
   "id": "unable-bench",
   "metadata": {},
   "source": [
    "We'll add the cluster assignments to our original dataframe. Each record/observation has a cluster number now. "
   ]
  },
  {
   "cell_type": "code",
   "execution_count": 18,
   "id": "allied-microwave",
   "metadata": {},
   "outputs": [
    {
     "name": "stdout",
     "output_type": "stream",
     "text": [
      "   year count_date  hour  road_type   latitude  longitude  link_length_km  \\\n",
      "0  2005 2005-05-12     7       True  55.837029  -3.925646             8.4   \n",
      "1  2005 2005-05-12     8       True  55.837029  -3.925646             8.4   \n",
      "2  2005 2005-05-12     9       True  55.837029  -3.925646             8.4   \n",
      "3  2005 2005-05-12    10       True  55.837029  -3.925646             8.4   \n",
      "4  2005 2005-05-12    11       True  55.837029  -3.925646             8.4   \n",
      "\n",
      "   pedal_cycles  two_wheeled_motor_vehicles  buses_and_coaches  \\\n",
      "0             0                           2                 10   \n",
      "1             0                           4                  5   \n",
      "2             0                           4                 18   \n",
      "3             0                          10                 17   \n",
      "4             0                           4                 12   \n",
      "\n",
      "   all_motor_vehicles  month  cluster  \n",
      "0                3299      5        7  \n",
      "1                2852      5        7  \n",
      "2                2346      5        7  \n",
      "3                2392      5        5  \n",
      "4                1685      5        7  \n"
     ]
    }
   ],
   "source": [
    "df['cluster'] = kmeans.labels_\n",
    "print(df.head())"
   ]
  },
  {
   "cell_type": "markdown",
   "id": "copyrighted-relief",
   "metadata": {},
   "source": [
    "We'll create a new dataframe that stores the centroid vector for each cluster. "
   ]
  },
  {
   "cell_type": "code",
   "execution_count": 19,
   "id": "floating-enterprise",
   "metadata": {},
   "outputs": [
    {
     "name": "stdout",
     "output_type": "stream",
     "text": [
      "   year_anon  hour_anon  month_anon  latitude_anon  longitude_anon  \\\n",
      "0   0.182063  -0.001391    0.186400       1.720786       -2.723157   \n",
      "1   0.134434  -0.032922    1.189540      -0.540352       -0.465077   \n",
      "2  -0.280126   0.887330    1.279523      -0.366730       -0.140502   \n",
      "3   0.957290   0.961974   -0.594705      -0.414735       -0.190133   \n",
      "4   0.938547  -0.957359   -0.617074      -0.411600       -0.181090   \n",
      "\n",
      "   link_length_km_anon  pedal_cycles_anon  two_wheeled_motor_vehicles_anon  \\\n",
      "0             0.013529          -0.228431                        -0.347991   \n",
      "1            -0.496631          -0.111420                        -0.346156   \n",
      "2             0.179067          -0.116935                         0.103294   \n",
      "3            -0.495034          -0.032202                        -0.316686   \n",
      "4            -0.495248          -0.095206                        -0.373647   \n",
      "\n",
      "   buses_and_coaches_anon  road_type_anon  cluster_num  \n",
      "0               -0.446483       -0.115030            0  \n",
      "1               -0.200501       -0.950392            1  \n",
      "2                0.072788        1.050515            2  \n",
      "3               -0.326997       -0.935705            3  \n",
      "4               -0.310281       -0.936763            4  \n"
     ]
    }
   ],
   "source": [
    "feas_anon = [f+'_anon' for f in features]\n",
    "\n",
    "cluster_centers = pd.DataFrame(kmeans.cluster_centers_, columns=feas_anon)\n",
    "cluster_centers['cluster_num'] = cluster_centers.index\n",
    "print(cluster_centers.head())"
   ]
  },
  {
   "cell_type": "markdown",
   "id": "popular-knowing",
   "metadata": {},
   "source": [
    "Now we'll join those two dataframes, so that we have a new dataframe which contains both the original data and the anonymized data for each row. "
   ]
  },
  {
   "cell_type": "code",
   "execution_count": 20,
   "id": "cognitive-procurement",
   "metadata": {},
   "outputs": [],
   "source": [
    "df_merge = df.merge(cluster_centers, how='left', left_on='cluster', right_on='cluster_num')"
   ]
  },
  {
   "cell_type": "markdown",
   "id": "steady-substitute",
   "metadata": {},
   "source": [
    "In our second experiment, we'll use just the anonymized features. "
   ]
  },
  {
   "cell_type": "code",
   "execution_count": 21,
   "id": "practical-insured",
   "metadata": {},
   "outputs": [],
   "source": [
    "new_X = df_merge[feas_anon]\n",
    "new_y = df_merge['all_motor_vehicles']"
   ]
  },
  {
   "cell_type": "code",
   "execution_count": 22,
   "id": "twelve-nicaragua",
   "metadata": {},
   "outputs": [
    {
     "name": "stdout",
     "output_type": "stream",
     "text": [
      "R2 Score (With Anonymization): 0.4398600984628366\n"
     ]
    }
   ],
   "source": [
    "X_train, X_test, y_train, y_test = train_test_split(new_X, new_y, test_size=0.33, random_state=42)\n",
    "\n",
    "knn = KNeighborsRegressor(n_neighbors=10)\n",
    "\n",
    "knn.fit(X_train, y_train)\n",
    "\n",
    "preds_anon = knn.predict(X_test)\n",
    "\n",
    "r2_anon = r2_score(y_test, preds_anon)\n",
    "\n",
    "print('R2 Score (With Anonymization):', r2_anon)"
   ]
  },
  {
   "cell_type": "markdown",
   "id": "extreme-terrain",
   "metadata": {},
   "source": [
    "Our score has taken quite a hit. That's not too surprising, given that we used a very small number of clusters, resulting in an anonymized dataset in which a lot of information was lost. In the lab assignment, you'll see if you can improve this. "
   ]
  },
  {
   "cell_type": "markdown",
   "id": "south-jacob",
   "metadata": {},
   "source": [
    "# Lab Assignment\n",
    "\n",
    "Try the following:\n",
    "   - Try different number of clusters (e.g. both smaller and greater than what we tried) and anonymize the data using those clusterings. See how the prediction performance on the anonymized data changes as you change the number of clusters. Keep in mind that if you try a very large number of clusters, it may take several minutes to find a solution. \n",
    "   - Try at least one other regression model other than k-nearest neighbors and see how it performs on this prediction task, both on the original data and on the anonymized data. You could use linear regression, or a multi-layer perceptron, or another regression model of your choice. "
   ]
  },
  {
   "cell_type": "markdown",
   "id": "liable-array",
   "metadata": {},
   "source": [
    "### Deliverables: Submit your completed notebook via Blackboard. "
   ]
  },
  {
   "cell_type": "code",
   "execution_count": 25,
   "id": "cfdbf517",
   "metadata": {},
   "outputs": [
    {
     "name": "stdout",
     "output_type": "stream",
     "text": [
      "R2 Score (With Anonymization with 100 clusters): 0.4626918920672154\n"
     ]
    }
   ],
   "source": [
    "# Greater clusters.\n",
    "k = 30\n",
    "kmeans = KMeans(n_clusters=k, random_state=0).fit(X)\n",
    "df['cluster'] = kmeans.labels_\n",
    "#print(df.head())\n",
    "feas_anon = [f+'_anon' for f in features]\n",
    "\n",
    "cluster_centers = pd.DataFrame(kmeans.cluster_centers_, columns=feas_anon)\n",
    "cluster_centers['cluster_num'] = cluster_centers.index\n",
    "#print(cluster_centers.head())\n",
    "df_merge = df.merge(cluster_centers, how='left', left_on='cluster', right_on='cluster_num')\n",
    "new_X = df_merge[feas_anon]\n",
    "new_y = df_merge['all_motor_vehicles']\n",
    "X_train, X_test, y_train, y_test = train_test_split(new_X, new_y, test_size=0.33, random_state=42)\n",
    "\n",
    "lm = linear_model.LinearRegression()\n",
    "\n",
    "lm.fit(X_train, y_train)\n",
    "\n",
    "preds_anon = lm.predict(X_test)\n",
    "\n",
    "r2_anon = r2_score(y_test, preds_anon)\n",
    "\n",
    "print('R2 Score (With Anonymization with 100 clusters):', r2_anon)"
   ]
  },
  {
   "cell_type": "code",
   "execution_count": 26,
   "id": "bd105883",
   "metadata": {},
   "outputs": [
    {
     "data": {
      "image/png": "[encoded data removed]",
      "text/plain": [
       "<Figure size 432x288 with 1 Axes>"
      ]
     },
     "metadata": {
      "needs_background": "light"
     },
     "output_type": "display_data"
    }
   ],
   "source": [
    "plt.figure()\n",
    "plt.scatter(y_test, preds_anon)\n",
    "plt.xlabel('actual number of motor vehicles')\n",
    "plt.ylabel('predicted number of motor vehicles')\n",
    "plt.show()"
   ]
  },
  {
   "cell_type": "code",
   "execution_count": 27,
   "id": "cd03c7b4",
   "metadata": {},
   "outputs": [
    {
     "name": "stdout",
     "output_type": "stream",
     "text": [
      "R2 Score (With Anonymization with 5 clusters): 0.37875430571516644\n"
     ]
    }
   ],
   "source": [
    "# Smaller clusters.\n",
    "k = 5\n",
    "kmeans = KMeans(n_clusters=k, random_state=0).fit(X)\n",
    "df['cluster'] = kmeans.labels_\n",
    "#print(df.head())\n",
    "feas_anon = [f+'_anon' for f in features]\n",
    "\n",
    "cluster_centers = pd.DataFrame(kmeans.cluster_centers_, columns=feas_anon)\n",
    "cluster_centers['cluster_num'] = cluster_centers.index\n",
    "#print(cluster_centers.head())\n",
    "df_merge = df.merge(cluster_centers, how='left', left_on='cluster', right_on='cluster_num')\n",
    "new_X = df_merge[feas_anon]\n",
    "new_y = df_merge['all_motor_vehicles']\n",
    "X_train, X_test, y_train, y_test = train_test_split(new_X, new_y, test_size=0.33, random_state=42)\n",
    "\n",
    "lm = linear_model.LinearRegression()\n",
    "\n",
    "lm.fit(X_train, y_train)\n",
    "\n",
    "preds_anon = lm.predict(X_test)\n",
    "\n",
    "r2_anon = r2_score(y_test, preds_anon)\n",
    "\n",
    "print('R2 Score (With Anonymization with 5 clusters):', r2_anon)"
   ]
  },
  {
   "cell_type": "code",
   "execution_count": 28,
   "id": "d45d3e8e",
   "metadata": {},
   "outputs": [
    {
     "data": {
      "image/png": "[encoded data removed]",
      "text/plain": [
       "<Figure size 432x288 with 1 Axes>"
      ]
     },
     "metadata": {
      "needs_background": "light"
     },
     "output_type": "display_data"
    }
   ],
   "source": [
    "plt.figure()\n",
    "plt.scatter(y_test, preds_anon)\n",
    "plt.xlabel('actual number of motor vehicles')\n",
    "plt.ylabel('predicted number of motor vehicles')\n",
    "plt.show()"
   ]
  },
  {
   "cell_type": "markdown",
   "id": "9056a890",
   "metadata": {},
   "source": [
    "As we increase the number of clusters, the R2 score increases.The 2 scatterplots, show that there is a strong linear relationship with the actual and predicted number of motor vehicles. We see that, as the number of clusters increased, the scatterplot shows a more stronger relationship."
   ]
  }
 ],
 "metadata": {
  "kernelspec": {
   "display_name": "Python 3 (ipykernel)",
   "language": "python",
   "name": "python3"
  },
  "language_info": {
   "codemirror_mode": {
    "name": "ipython",
    "version": 3
   },
   "file_extension": ".py",
   "mimetype": "text/x-python",
   "name": "python",
   "nbconvert_exporter": "python",
   "pygments_lexer": "ipython3",
   "version": "3.9.7"
  }
 },
 "nbformat": 4,
 "nbformat_minor": 5
}
