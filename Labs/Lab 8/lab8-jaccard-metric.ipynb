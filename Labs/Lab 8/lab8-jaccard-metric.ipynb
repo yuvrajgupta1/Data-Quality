{
 "cells": [
  {
   "cell_type": "markdown",
   "metadata": {},
   "source": [
    "# Lab 7: The Jaccard Metric"
   ]
  },
  {
   "cell_type": "markdown",
   "metadata": {},
   "source": [
    "Write a Python function jaccard() that takes two strings as arguments, and returns the jaccard similarity measure of the two strings."
   ]
  },
  {
   "cell_type": "code",
   "execution_count": 7,
   "metadata": {
    "collapsed": true
   },
   "outputs": [],
   "source": [
    "def jaccard(s1, s2):\n",
    "    print('calculating jaccard metric')\n",
    "    # your code here"
   ]
  },
  {
   "cell_type": "markdown",
   "metadata": {},
   "source": [
    "1\\. The first thing your function should do is add the special symbol \"#\" to the beginning and end of each string.\n",
    "\n",
    "For example:"
   ]
  },
  {
   "cell_type": "code",
   "execution_count": 2,
   "metadata": {},
   "outputs": [
    {
     "name": "stdout",
     "output_type": "stream",
     "text": [
      "#dave#\n"
     ]
    }
   ],
   "source": [
    "my_string = \"dave\"\n",
    "my_string = \"#\" + my_string + \"#\"\n",
    "print(my_string)"
   ]
  },
  {
   "cell_type": "markdown",
   "metadata": {},
   "source": [
    "2\\. You then need to get character bigrams for each string. The easiest way is to loop over each string, and each iteration will get a two-character substring (a bigram) of the overall string. Add each bigram to a list.\n",
    "\n",
    "Here is an example of getting just the first bigram:"
   ]
  },
  {
   "cell_type": "code",
   "execution_count": 3,
   "metadata": {},
   "outputs": [
    {
     "name": "stdout",
     "output_type": "stream",
     "text": [
      "#d\n"
     ]
    }
   ],
   "source": [
    "print(my_string[0:2])"
   ]
  },
  {
   "cell_type": "markdown",
   "metadata": {},
   "source": [
    "3\\. Once you have two lists of bigrams from the two strings, you can convert those to sets. Here is a toy example of converting two lists to sets."
   ]
  },
  {
   "cell_type": "code",
   "execution_count": 4,
   "metadata": {},
   "outputs": [
    {
     "name": "stdout",
     "output_type": "stream",
     "text": [
      "{'hi', 'hey', 'ho'}\n",
      "{'huh', 'hi', 'ho', 'heh'}\n"
     ]
    }
   ],
   "source": [
    "list1 = ['hi', 'ho', 'hey', 'ho']\n",
    "list2 = ['ho', 'ho', 'huh', 'hi', 'heh']\n",
    "\n",
    "set1 = set(list1)\n",
    "set2 = set(list2)\n",
    "print(set1)\n",
    "print(set2)"
   ]
  },
  {
   "cell_type": "markdown",
   "metadata": {},
   "source": [
    "4\\. Once you have two sets, you need to determine their intersection and their union. Here we continue the above toy example:"
   ]
  },
  {
   "cell_type": "code",
   "execution_count": 6,
   "metadata": {},
   "outputs": [
    {
     "name": "stdout",
     "output_type": "stream",
     "text": [
      "{'hi', 'ho'} {'hi', 'heh', 'huh', 'hey', 'ho'}\n"
     ]
    }
   ],
   "source": [
    "i = set1.intersection(set2)\n",
    "u = set1.union(set2)\n",
    "print(i, u)"
   ]
  },
  {
   "cell_type": "markdown",
   "metadata": {},
   "source": [
    "5\\. Finally, you will need to have your function calculate the size of the intersection divided by the size of the union, and return that as the jaccard score."
   ]
  },
  {
   "cell_type": "markdown",
   "metadata": {},
   "source": [
    "__Deliverable__: Submit your completed notebook via Blackboard."
   ]
  }
 ],
 "metadata": {
  "kernelspec": {
   "display_name": "Python 3",
   "language": "python",
   "name": "python3"
  },
  "language_info": {
   "codemirror_mode": {
    "name": "ipython",
    "version": 3
   },
   "file_extension": ".py",
   "mimetype": "text/x-python",
   "name": "python",
   "nbconvert_exporter": "python",
   "pygments_lexer": "ipython3",
   "version": "3.6.4"
  }
 },
 "nbformat": 4,
 "nbformat_minor": 2
}
