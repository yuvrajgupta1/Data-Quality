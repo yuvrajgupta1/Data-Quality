{
 "cells": [
  {
   "cell_type": "markdown",
   "metadata": {},
   "source": [
    "# Linear Regression with Python and sklearn"
   ]
  },
  {
   "cell_type": "code",
   "execution_count": 2,
   "metadata": {},
   "outputs": [],
   "source": [
    "import pandas as pd\n",
    "import matplotlib.pyplot as plt\n",
    "from sklearn import linear_model\n",
    "import math\n",
    "import numpy as np\n",
    "\n",
    "# Enable inline plotting\n",
    "%matplotlib inline"
   ]
  },
  {
   "cell_type": "markdown",
   "metadata": {},
   "source": [
    "## Reading in Data\n",
    "\n",
    "We'll read in a dataset containing some information about housing in Boston.\n",
    "\n",
    "However, this time some of the Grad.Rate data is missing (NA)."
   ]
  },
  {
   "cell_type": "code",
   "execution_count": 17,
   "metadata": {},
   "outputs": [
    {
     "name": "stdout",
     "output_type": "stream",
     "text": [
      "                        College Private  Apps  Accept  Enroll  Top10perc  \\\n",
      "0  Abilene Christian University     Yes  1660    1232     721         23   \n",
      "1            Adelphi University     Yes  2186    1924     512         16   \n",
      "2                Adrian College     Yes  1428    1097     336         22   \n",
      "3           Agnes Scott College     Yes   417     349     137         60   \n",
      "4     Alaska Pacific University     Yes   193     146      55         16   \n",
      "\n",
      "   Top25perc  F.Undergrad  P.Undergrad  Outstate  Room.Board  Books  Personal  \\\n",
      "0         52         2885          537      7440        3300    450      2200   \n",
      "1         29         2683         1227     12280        6450    750      1500   \n",
      "2         50         1036           99     11250        3750    400      1165   \n",
      "3         89          510           63     12960        5450    450       875   \n",
      "4         44          249          869      7560        4120    800      1500   \n",
      "\n",
      "   PhD  Terminal  S.F.Ratio  perc.alumni  Expend  Grad.Rate  \n",
      "0   70        78       18.1           12    7041       60.0  \n",
      "1   29        30       12.2           16   10527        NaN  \n",
      "2   53        66       12.9           30    8735       54.0  \n",
      "3   92        97        7.7           37   19016        NaN  \n",
      "4   76        72       11.9            2   10922       15.0  \n"
     ]
    }
   ],
   "source": [
    "df = pd.read_csv('College-MISSING.csv')\n",
    "print(df.head())"
   ]
  },
  {
   "cell_type": "markdown",
   "metadata": {},
   "source": [
    "Let's predict graduation rate (Grad.Rate) based on the other variables. So Grad.Rate will be our outcome (y) and the other variables will be our features (X). \n",
    "\n",
    "But first we will remove missing data."
   ]
  },
  {
   "cell_type": "markdown",
   "metadata": {},
   "source": [
    "# Removing Missing Data\n",
    "\n",
    "We will remove any rows with missing (NA) data, in order to fit our linear regression model."
   ]
  },
  {
   "cell_type": "code",
   "execution_count": 18,
   "metadata": {},
   "outputs": [
    {
     "name": "stdout",
     "output_type": "stream",
     "text": [
      "                        College Private  Apps  Accept  Enroll  Top10perc  \\\n",
      "0  Abilene Christian University     Yes  1660    1232     721         23   \n",
      "2                Adrian College     Yes  1428    1097     336         22   \n",
      "4     Alaska Pacific University     Yes   193     146      55         16   \n",
      "5             Albertson College     Yes   587     479     158         38   \n",
      "6       Albertus Magnus College     Yes   353     340     103         17   \n",
      "\n",
      "   Top25perc  F.Undergrad  P.Undergrad  Outstate  Room.Board  Books  Personal  \\\n",
      "0         52         2885          537      7440        3300    450      2200   \n",
      "2         50         1036           99     11250        3750    400      1165   \n",
      "4         44          249          869      7560        4120    800      1500   \n",
      "5         62          678           41     13500        3335    500       675   \n",
      "6         45          416          230     13290        5720    500      1500   \n",
      "\n",
      "   PhD  Terminal  S.F.Ratio  perc.alumni  Expend  Grad.Rate  \n",
      "0   70        78       18.1           12    7041       60.0  \n",
      "2   53        66       12.9           30    8735       54.0  \n",
      "4   76        72       11.9            2   10922       15.0  \n",
      "5   67        73        9.4           11    9727       55.0  \n",
      "6   90        93       11.5           26    8861       63.0  \n"
     ]
    }
   ],
   "source": [
    "df_complete = df.dropna(axis=0, how='any')\n",
    "print(df_complete.head())"
   ]
  },
  {
   "cell_type": "markdown",
   "metadata": {},
   "source": [
    "Then we will divide that into features (X) and outcomes (y), as before."
   ]
  },
  {
   "cell_type": "code",
   "execution_count": 19,
   "metadata": {},
   "outputs": [
    {
     "name": "stdout",
     "output_type": "stream",
     "text": [
      "Here are the features (X):\n",
      "   Apps  Accept  Enroll  Top10perc  Top25perc  F.Undergrad  P.Undergrad  \\\n",
      "0  1660    1232     721         23         52         2885          537   \n",
      "2  1428    1097     336         22         50         1036           99   \n",
      "4   193     146      55         16         44          249          869   \n",
      "5   587     479     158         38         62          678           41   \n",
      "6   353     340     103         17         45          416          230   \n",
      "\n",
      "   Outstate  Room.Board  Books  Personal  PhD  Terminal  S.F.Ratio  \\\n",
      "0      7440        3300    450      2200   70        78       18.1   \n",
      "2     11250        3750    400      1165   53        66       12.9   \n",
      "4      7560        4120    800      1500   76        72       11.9   \n",
      "5     13500        3335    500       675   67        73        9.4   \n",
      "6     13290        5720    500      1500   90        93       11.5   \n",
      "\n",
      "   perc.alumni  Expend  \n",
      "0           12    7041  \n",
      "2           30    8735  \n",
      "4            2   10922  \n",
      "5           11    9727  \n",
      "6           26    8861  \n",
      "\n",
      "\n",
      "Here is the outcome variable (y):\n",
      "0      60.0\n",
      "2      54.0\n",
      "4      15.0\n",
      "5      55.0\n",
      "6      63.0\n",
      "       ... \n",
      "771    82.0\n",
      "772    40.0\n",
      "773    83.0\n",
      "775    99.0\n",
      "776    99.0\n",
      "Name: Grad.Rate, Length: 757, dtype: float64\n"
     ]
    }
   ],
   "source": [
    "X = df_complete.drop(['College', 'Private', 'Grad.Rate'], axis=1)\n",
    "print(\"Here are the features (X):\")\n",
    "print(X.head())\n",
    "\n",
    "print(\"\\n\\nHere is the outcome variable (y):\")\n",
    "y = df_complete['Grad.Rate']\n",
    "print(y)"
   ]
  },
  {
   "cell_type": "markdown",
   "metadata": {},
   "source": [
    "## Regression Models in sklearn"
   ]
  },
  {
   "cell_type": "markdown",
   "metadata": {},
   "source": [
    "We will fit a regression model to predict Grad.Rate, just like in the previous lab.\n",
    "\n",
    "We create an instance of the LinearRegression class in sklearn:"
   ]
  },
  {
   "cell_type": "code",
   "execution_count": 20,
   "metadata": {},
   "outputs": [],
   "source": [
    "lm = linear_model.LinearRegression()"
   ]
  },
  {
   "cell_type": "markdown",
   "metadata": {},
   "source": [
    "We then fit the model to the training data. "
   ]
  },
  {
   "cell_type": "code",
   "execution_count": 21,
   "metadata": {},
   "outputs": [
    {
     "data": {
      "text/plain": [
       "LinearRegression()"
      ]
     },
     "execution_count": 21,
     "metadata": {},
     "output_type": "execute_result"
    }
   ],
   "source": [
    "lm.fit(X, y)"
   ]
  },
  {
   "cell_type": "markdown",
   "metadata": {},
   "source": [
    "We can check the coefficients/parameters, and the intercept term. "
   ]
  },
  {
   "cell_type": "code",
   "execution_count": 22,
   "metadata": {},
   "outputs": [
    {
     "name": "stdout",
     "output_type": "stream",
     "text": [
      "[ 0.00108172 -0.00041358  0.00270295  0.08499565  0.12251812 -0.00068643\n",
      " -0.00150103  0.00110305  0.00217178 -0.00160813 -0.00172441  0.0732174\n",
      " -0.0975573   0.00542521  0.29218027 -0.0004737 ]\n",
      "38.095345836140325\n"
     ]
    }
   ],
   "source": [
    "print(lm.coef_)\n",
    "print(lm.intercept_)"
   ]
  },
  {
   "cell_type": "markdown",
   "metadata": {
    "collapsed": true
   },
   "source": [
    "# Imputation\n",
    "\n",
    "Then we want to get predictions on the full dataset, including the rows that had missing (NA) data, so that we can impute the missing values using our trained regression model. \n",
    "\n",
    "So we need to get the features (X) for the entire dataset, not just the complete cases."
   ]
  },
  {
   "cell_type": "code",
   "execution_count": 23,
   "metadata": {},
   "outputs": [],
   "source": [
    "X_all = df.drop(['College', 'Private', 'Grad.Rate'], axis=1)\n",
    "\n",
    "preds = lm.predict(X_all)\n"
   ]
  },
  {
   "cell_type": "markdown",
   "metadata": {},
   "source": [
    "Or we could get predictions for just the records where Grad.Rate was missing:"
   ]
  },
  {
   "cell_type": "code",
   "execution_count": 24,
   "metadata": {},
   "outputs": [
    {
     "name": "stdout",
     "output_type": "stream",
     "text": [
      "[64.98936473 77.34827933 57.83035556 49.81144881 70.58416761 61.38581165\n",
      " 49.1608638  47.81355672 46.32245599 51.22136455 54.42369036 87.43574105\n",
      " 65.7785619  67.30902613 52.93951546 54.26627148 67.63399584 47.8824882\n",
      " 53.38464218 63.60876679]\n"
     ]
    }
   ],
   "source": [
    "missing = df['Grad.Rate'].isnull()\n",
    "preds_missing = lm.predict(X_all.loc[missing, :])\n",
    "print(preds_missing)"
   ]
  },
  {
   "cell_type": "markdown",
   "metadata": {},
   "source": [
    "# Inserting the Predicted Values\n",
    "\n",
    "For any Grad.Rate that was NA, we want to replace it with the predicted value. But for any Grad.Rate that was _not_ missing, we just want to use its original value, not the predicted value. \n",
    "\n",
    "The following code does that interleaving. "
   ]
  },
  {
   "cell_type": "code",
   "execution_count": 25,
   "metadata": {},
   "outputs": [
    {
     "name": "stdout",
     "output_type": "stream",
     "text": [
      "0      60.000000\n",
      "1      64.989365\n",
      "2      54.000000\n",
      "3      77.348279\n",
      "4      15.000000\n",
      "         ...    \n",
      "772    40.000000\n",
      "773    83.000000\n",
      "774    63.608767\n",
      "775    99.000000\n",
      "776    99.000000\n",
      "Name: Grad.Rate, Length: 777, dtype: float64\n"
     ]
    }
   ],
   "source": [
    "df.loc[missing,'Grad.Rate']=preds_missing\n",
    "\n",
    "'''\n",
    "The following iterative code would give the same solution.\n",
    "It loops over the full dataset,\n",
    "and only imputes a predicted value for a record if it was originally missing.\n",
    "But the above code is more concise and efficient.\n",
    "'''\n",
    "\n",
    "#for i in range(len(df)):\n",
    "#    if math.isnan(df.loc[i, 'Grad.Rate']):\n",
    "#        df.loc[i, 'Grad.Rate'] = preds[i]\n",
    "\n",
    "print(df['Grad.Rate'])"
   ]
  },
  {
   "cell_type": "markdown",
   "metadata": {},
   "source": [
    "## Mean Imputation\n",
    "\n",
    "Sometimes we might want a simpler imputation method. We could replace each NA value with the mean or median of the non-missing values.\n",
    "\n",
    "Let's generate some toy data:"
   ]
  },
  {
   "cell_type": "code",
   "execution_count": 26,
   "metadata": {
    "scrolled": true
   },
   "outputs": [
    {
     "name": "stdout",
     "output_type": "stream",
     "text": [
      "   Sensor\n",
      "0     1.0\n",
      "1     2.0\n",
      "2     NaN\n",
      "3     3.0\n",
      "4     3.5\n",
      "5     4.0\n"
     ]
    }
   ],
   "source": [
    "mydat = pd.DataFrame([1,2,np.nan,3,3.5,4], columns=[\"Sensor\"])\n",
    "print(mydat)"
   ]
  },
  {
   "cell_type": "markdown",
   "metadata": {},
   "source": [
    "Here we replace the missing values with the mean value:"
   ]
  },
  {
   "cell_type": "code",
   "execution_count": 27,
   "metadata": {},
   "outputs": [
    {
     "name": "stdout",
     "output_type": "stream",
     "text": [
      "0    1.0\n",
      "1    2.0\n",
      "2    2.7\n",
      "3    3.0\n",
      "4    3.5\n",
      "5    4.0\n",
      "Name: Sensor, dtype: float64\n"
     ]
    }
   ],
   "source": [
    "mean_reading = mydat['Sensor'].mean(skipna=True)\n",
    "new_df = mydat['Sensor'].fillna(mean_reading)\n",
    "print(new_df)"
   ]
  },
  {
   "cell_type": "markdown",
   "metadata": {},
   "source": [
    "If we were concerned about outliers, we could have used the median instead."
   ]
  },
  {
   "cell_type": "markdown",
   "metadata": {},
   "source": [
    "## Interpolation\n",
    "\n",
    "In cases where it is appropriate (e.g. with some time-series data), we can have Pandas interpolate between data points to fill in the missing data. "
   ]
  },
  {
   "cell_type": "code",
   "execution_count": 28,
   "metadata": {},
   "outputs": [
    {
     "data": {
      "text/html": [
       "<div>\n",
       "<style scoped>\n",
       "    .dataframe tbody tr th:only-of-type {\n",
       "        vertical-align: middle;\n",
       "    }\n",
       "\n",
       "    .dataframe tbody tr th {\n",
       "        vertical-align: top;\n",
       "    }\n",
       "\n",
       "    .dataframe thead th {\n",
       "        text-align: right;\n",
       "    }\n",
       "</style>\n",
       "<table border=\"1\" class=\"dataframe\">\n",
       "  <thead>\n",
       "    <tr style=\"text-align: right;\">\n",
       "      <th></th>\n",
       "      <th>Sensor</th>\n",
       "    </tr>\n",
       "  </thead>\n",
       "  <tbody>\n",
       "    <tr>\n",
       "      <th>0</th>\n",
       "      <td>1.0</td>\n",
       "    </tr>\n",
       "    <tr>\n",
       "      <th>1</th>\n",
       "      <td>2.0</td>\n",
       "    </tr>\n",
       "    <tr>\n",
       "      <th>2</th>\n",
       "      <td>2.5</td>\n",
       "    </tr>\n",
       "    <tr>\n",
       "      <th>3</th>\n",
       "      <td>3.0</td>\n",
       "    </tr>\n",
       "    <tr>\n",
       "      <th>4</th>\n",
       "      <td>3.5</td>\n",
       "    </tr>\n",
       "    <tr>\n",
       "      <th>5</th>\n",
       "      <td>4.0</td>\n",
       "    </tr>\n",
       "  </tbody>\n",
       "</table>\n",
       "</div>"
      ],
      "text/plain": [
       "   Sensor\n",
       "0     1.0\n",
       "1     2.0\n",
       "2     2.5\n",
       "3     3.0\n",
       "4     3.5\n",
       "5     4.0"
      ]
     },
     "execution_count": 28,
     "metadata": {},
     "output_type": "execute_result"
    }
   ],
   "source": [
    "mydat.interpolate()"
   ]
  },
  {
   "cell_type": "code",
   "execution_count": 29,
   "metadata": {},
   "outputs": [
    {
     "data": {
      "text/plain": [
       "<AxesSubplot:>"
      ]
     },
     "execution_count": 29,
     "metadata": {},
     "output_type": "execute_result"
    },
    {
     "data": {
      "image/png": "[encoded data removed]",
      "text/plain": [
       "<Figure size 432x288 with 1 Axes>"
      ]
     },
     "metadata": {
      "needs_background": "light"
     },
     "output_type": "display_data"
    }
   ],
   "source": [
    "mydat.interpolate().plot()"
   ]
  },
  {
   "cell_type": "markdown",
   "metadata": {},
   "source": [
    "# Lab Assignment"
   ]
  },
  {
   "cell_type": "markdown",
   "metadata": {
    "collapsed": true
   },
   "source": [
    "***\n",
    "__Exercise 1__: Read in the College data we used last time (*College.csv*) that had no missing data. Compare our predictions of the missing values with the actual values. Create a scatter plot showing the original values (before deletion) compared with the predicted values from the imputation model.\n",
    "***"
   ]
  },
  {
   "cell_type": "code",
   "execution_count": 31,
   "metadata": {},
   "outputs": [
    {
     "data": {
      "image/png": "[encoded data removed]",
      "text/plain": [
       "<Figure size 432x288 with 1 Axes>"
      ]
     },
     "metadata": {
      "needs_background": "light"
     },
     "output_type": "display_data"
    }
   ],
   "source": [
    "df_compare = pd.read_csv('College.csv')\n",
    "original = df_compare['Grad.Rate']\n",
    "preds = df['Grad.Rate']\n",
    "\n",
    "plt.figure()\n",
    "plt.scatter(original, preds)\n",
    "plt.xlabel('actual graduation rate')\n",
    "plt.ylabel('predicted graduation rate')\n",
    "plt.show()"
   ]
  },
  {
   "cell_type": "markdown",
   "metadata": {},
   "source": [
    "***\n",
    "__Exercise 2__: You are provided with a copy of the mtcars dataset (*mtcars-MISSING.csv*) that has some missing horsepower (hp) values. Read the dataset into Python/Pandas, and follow the steps shown above to impute the missing values using linear regression.\n",
    "***"
   ]
  },
  {
   "cell_type": "code",
   "execution_count": 4,
   "metadata": {},
   "outputs": [
    {
     "name": "stdout",
     "output_type": "stream",
     "text": [
      "               model   mpg  cyl   disp     hp  drat     wt   qsec  vs  am  \\\n",
      "0          Mazda RX4  21.0    6  160.0  110.0  3.90  2.620  16.46   0   1   \n",
      "1      Mazda RX4 Wag  21.0    6  160.0    NaN  3.90  2.875  17.02   0   1   \n",
      "2         Datsun 710  22.8    4  108.0   93.0  3.85  2.320  18.61   1   1   \n",
      "3     Hornet 4 Drive  21.4    6  258.0  110.0  3.08  3.215  19.44   1   0   \n",
      "4  Hornet Sportabout  18.7    8  360.0  175.0  3.15  3.440  17.02   0   0   \n",
      "\n",
      "   gear  carb  \n",
      "0     4     4  \n",
      "1     4     4  \n",
      "2     4     1  \n",
      "3     3     1  \n",
      "4     3     2  \n"
     ]
    }
   ],
   "source": [
    "df1 = pd.read_csv('mtcars-MISSING.csv')\n",
    "print(df1.head())"
   ]
  },
  {
   "cell_type": "code",
   "execution_count": 6,
   "metadata": {},
   "outputs": [
    {
     "name": "stdout",
     "output_type": "stream",
     "text": [
      "               model   mpg  cyl   disp     hp  drat     wt   qsec  vs  am  \\\n",
      "0          Mazda RX4  21.0    6  160.0  110.0  3.90  2.620  16.46   0   1   \n",
      "2         Datsun 710  22.8    4  108.0   93.0  3.85  2.320  18.61   1   1   \n",
      "3     Hornet 4 Drive  21.4    6  258.0  110.0  3.08  3.215  19.44   1   0   \n",
      "4  Hornet Sportabout  18.7    8  360.0  175.0  3.15  3.440  17.02   0   0   \n",
      "5            Valiant  18.1    6  225.0  105.0  2.76  3.460  20.22   1   0   \n",
      "\n",
      "   gear  carb  \n",
      "0     4     4  \n",
      "2     4     1  \n",
      "3     3     1  \n",
      "4     3     2  \n",
      "5     3     1  \n"
     ]
    }
   ],
   "source": [
    "df1_complete = df1.dropna(axis=0, how='any')\n",
    "print(df1_complete.head())"
   ]
  },
  {
   "cell_type": "code",
   "execution_count": 9,
   "metadata": {},
   "outputs": [
    {
     "name": "stdout",
     "output_type": "stream",
     "text": [
      "Here are the features (X):\n",
      "    mpg  cyl   disp  drat     wt   qsec  vs  am  gear  carb\n",
      "0  21.0    6  160.0  3.90  2.620  16.46   0   1     4     4\n",
      "2  22.8    4  108.0  3.85  2.320  18.61   1   1     4     1\n",
      "3  21.4    6  258.0  3.08  3.215  19.44   1   0     3     1\n",
      "4  18.7    8  360.0  3.15  3.440  17.02   0   0     3     2\n",
      "5  18.1    6  225.0  2.76  3.460  20.22   1   0     3     1\n",
      "\n",
      "\n",
      "Here is the outcome variable (y):\n",
      "0     110.0\n",
      "2      93.0\n",
      "3     110.0\n",
      "4     175.0\n",
      "5     105.0\n",
      "6     245.0\n",
      "7      62.0\n",
      "8      95.0\n",
      "9     123.0\n",
      "10    123.0\n",
      "12    180.0\n",
      "14    205.0\n",
      "15    215.0\n",
      "16    230.0\n",
      "17     66.0\n",
      "18     52.0\n",
      "19     65.0\n",
      "20     97.0\n",
      "21    150.0\n",
      "22    150.0\n",
      "23    245.0\n",
      "25     66.0\n",
      "26     91.0\n",
      "27    113.0\n",
      "28    264.0\n",
      "29    175.0\n",
      "30    335.0\n",
      "Name: hp, dtype: float64\n"
     ]
    }
   ],
   "source": [
    "X1 = df1_complete.drop(['hp', 'model'], axis=1)\n",
    "print(\"Here are the features (X):\")\n",
    "print(X1.head())\n",
    "\n",
    "print(\"\\n\\nHere is the outcome variable (y):\")\n",
    "y1 = df1_complete['hp']\n",
    "print(y1)"
   ]
  },
  {
   "cell_type": "code",
   "execution_count": 11,
   "metadata": {},
   "outputs": [
    {
     "name": "stdout",
     "output_type": "stream",
     "text": [
      "[ -1.599297     2.7927305    0.58885923  -5.62093332 -41.42900507\n",
      "   0.54166453  21.21561372   7.55062784   5.09214275  23.31394143]\n",
      "71.44884224504646\n"
     ]
    }
   ],
   "source": [
    "lm1 = linear_model.LinearRegression()\n",
    "lm1.fit(X1, y1)\n",
    "print(lm1.coef_)\n",
    "print(lm1.intercept_)"
   ]
  },
  {
   "cell_type": "code",
   "execution_count": 13,
   "metadata": {},
   "outputs": [
    {
     "name": "stdout",
     "output_type": "stream",
     "text": [
      "[138.20152991 138.74048969 152.99905627 193.16056692  87.20976056]\n"
     ]
    }
   ],
   "source": [
    "X1_all = df1.drop(['model','hp'], axis=1)\n",
    "missing = df1['hp'].isnull()\n",
    "preds_missing = lm1.predict(X1_all.loc[missing, :])\n",
    "print(preds_missing)"
   ]
  },
  {
   "cell_type": "code",
   "execution_count": 15,
   "metadata": {},
   "outputs": [
    {
     "name": "stdout",
     "output_type": "stream",
     "text": [
      "0     110.000000\n",
      "1     138.201530\n",
      "2      93.000000\n",
      "3     110.000000\n",
      "4     175.000000\n",
      "5     105.000000\n",
      "6     245.000000\n",
      "7      62.000000\n",
      "8      95.000000\n",
      "9     123.000000\n",
      "10    123.000000\n",
      "11    138.740490\n",
      "12    180.000000\n",
      "13    152.999056\n",
      "14    205.000000\n",
      "15    215.000000\n",
      "16    230.000000\n",
      "17     66.000000\n",
      "18     52.000000\n",
      "19     65.000000\n",
      "20     97.000000\n",
      "21    150.000000\n",
      "22    150.000000\n",
      "23    245.000000\n",
      "24    193.160567\n",
      "25     66.000000\n",
      "26     91.000000\n",
      "27    113.000000\n",
      "28    264.000000\n",
      "29    175.000000\n",
      "30    335.000000\n",
      "31     87.209761\n",
      "Name: hp, dtype: float64\n"
     ]
    }
   ],
   "source": [
    "df1.loc[missing,'hp']=preds_missing\n",
    "print(df1['hp'])"
   ]
  },
  {
   "cell_type": "code",
   "execution_count": null,
   "metadata": {},
   "outputs": [],
   "source": []
  }
 ],
 "metadata": {
  "anaconda-cloud": {},
  "kernelspec": {
   "display_name": "Python 3 (ipykernel)",
   "language": "python",
   "name": "python3"
  },
  "language_info": {
   "codemirror_mode": {
    "name": "ipython",
    "version": 3
   },
   "file_extension": ".py",
   "mimetype": "text/x-python",
   "name": "python",
   "nbconvert_exporter": "python",
   "pygments_lexer": "ipython3",
   "version": "3.9.7"
  }
 },
 "nbformat": 4,
 "nbformat_minor": 1
}
