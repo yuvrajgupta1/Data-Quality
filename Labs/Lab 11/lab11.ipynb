{
 "cells": [
  {
   "cell_type": "markdown",
   "id": "durable-despite",
   "metadata": {},
   "source": [
    "# Lab 11: Anonymization Using PCA"
   ]
  },
  {
   "cell_type": "code",
   "execution_count": 1,
   "id": "massive-cookie",
   "metadata": {},
   "outputs": [],
   "source": [
    "import pandas as pd\n",
    "import sklearn\n",
    "from sklearn.model_selection import train_test_split\n",
    "from sklearn import preprocessing\n",
    "\n",
    "from sklearn.neighbors import KNeighborsRegressor\n",
    "\n",
    "from sklearn.metrics import mean_squared_error, r2_score\n",
    "\n",
    "import matplotlib.pyplot as plt"
   ]
  },
  {
   "cell_type": "markdown",
   "id": "adjustable-equality",
   "metadata": {},
   "source": [
    "In this lab we will use the same Scottish traffic dataset as last week. We'll preprocess it in the same way as we did last time. But in this week's lab we'll try a different approach to anonymization, this time using PCA. "
   ]
  },
  {
   "cell_type": "code",
   "execution_count": 2,
   "id": "exempt-coverage",
   "metadata": {},
   "outputs": [],
   "source": [
    "df = pd.read_csv('scotland-traffic.csv', parse_dates=['count_date'])"
   ]
  },
  {
   "cell_type": "markdown",
   "id": "banner-trash",
   "metadata": {},
   "source": [
    "We will extract the month from the date and use that as a separate feature. We will also recode the road type. "
   ]
  },
  {
   "cell_type": "code",
   "execution_count": 3,
   "id": "informal-duplicate",
   "metadata": {},
   "outputs": [],
   "source": [
    "df['month'] = pd.DatetimeIndex(df['count_date']).month"
   ]
  },
  {
   "cell_type": "code",
   "execution_count": 4,
   "id": "religious-hepatitis",
   "metadata": {},
   "outputs": [],
   "source": [
    "df['road_type'] = df['road_type'] == 'Major'"
   ]
  },
  {
   "cell_type": "markdown",
   "id": "incorrect-shame",
   "metadata": {},
   "source": [
    "We'll get rid of the records that are missing the outcome variable. And for now we'll replace all other missing values with 0. "
   ]
  },
  {
   "cell_type": "code",
   "execution_count": 5,
   "id": "brutal-breed",
   "metadata": {},
   "outputs": [],
   "source": [
    "df = df[~df.all_motor_vehicles.isna()]\n",
    "df.fillna(0, inplace=True)"
   ]
  },
  {
   "cell_type": "code",
   "execution_count": 6,
   "id": "legitimate-dayton",
   "metadata": {},
   "outputs": [
    {
     "data": {
      "text/html": [
       "<div>\n",
       "<style scoped>\n",
       "    .dataframe tbody tr th:only-of-type {\n",
       "        vertical-align: middle;\n",
       "    }\n",
       "\n",
       "    .dataframe tbody tr th {\n",
       "        vertical-align: top;\n",
       "    }\n",
       "\n",
       "    .dataframe thead th {\n",
       "        text-align: right;\n",
       "    }\n",
       "</style>\n",
       "<table border=\"1\" class=\"dataframe\">\n",
       "  <thead>\n",
       "    <tr style=\"text-align: right;\">\n",
       "      <th></th>\n",
       "      <th>year</th>\n",
       "      <th>count_date</th>\n",
       "      <th>hour</th>\n",
       "      <th>road_type</th>\n",
       "      <th>latitude</th>\n",
       "      <th>longitude</th>\n",
       "      <th>link_length_km</th>\n",
       "      <th>pedal_cycles</th>\n",
       "      <th>two_wheeled_motor_vehicles</th>\n",
       "      <th>buses_and_coaches</th>\n",
       "      <th>all_motor_vehicles</th>\n",
       "      <th>month</th>\n",
       "    </tr>\n",
       "  </thead>\n",
       "  <tbody>\n",
       "    <tr>\n",
       "      <th>0</th>\n",
       "      <td>2005</td>\n",
       "      <td>2005-05-12</td>\n",
       "      <td>7</td>\n",
       "      <td>True</td>\n",
       "      <td>55.837029</td>\n",
       "      <td>-3.925646</td>\n",
       "      <td>8.4</td>\n",
       "      <td>0</td>\n",
       "      <td>2</td>\n",
       "      <td>10</td>\n",
       "      <td>3299</td>\n",
       "      <td>5</td>\n",
       "    </tr>\n",
       "    <tr>\n",
       "      <th>1</th>\n",
       "      <td>2005</td>\n",
       "      <td>2005-05-12</td>\n",
       "      <td>8</td>\n",
       "      <td>True</td>\n",
       "      <td>55.837029</td>\n",
       "      <td>-3.925646</td>\n",
       "      <td>8.4</td>\n",
       "      <td>0</td>\n",
       "      <td>4</td>\n",
       "      <td>5</td>\n",
       "      <td>2852</td>\n",
       "      <td>5</td>\n",
       "    </tr>\n",
       "    <tr>\n",
       "      <th>2</th>\n",
       "      <td>2005</td>\n",
       "      <td>2005-05-12</td>\n",
       "      <td>9</td>\n",
       "      <td>True</td>\n",
       "      <td>55.837029</td>\n",
       "      <td>-3.925646</td>\n",
       "      <td>8.4</td>\n",
       "      <td>0</td>\n",
       "      <td>4</td>\n",
       "      <td>18</td>\n",
       "      <td>2346</td>\n",
       "      <td>5</td>\n",
       "    </tr>\n",
       "    <tr>\n",
       "      <th>3</th>\n",
       "      <td>2005</td>\n",
       "      <td>2005-05-12</td>\n",
       "      <td>10</td>\n",
       "      <td>True</td>\n",
       "      <td>55.837029</td>\n",
       "      <td>-3.925646</td>\n",
       "      <td>8.4</td>\n",
       "      <td>0</td>\n",
       "      <td>10</td>\n",
       "      <td>17</td>\n",
       "      <td>2392</td>\n",
       "      <td>5</td>\n",
       "    </tr>\n",
       "    <tr>\n",
       "      <th>4</th>\n",
       "      <td>2005</td>\n",
       "      <td>2005-05-12</td>\n",
       "      <td>11</td>\n",
       "      <td>True</td>\n",
       "      <td>55.837029</td>\n",
       "      <td>-3.925646</td>\n",
       "      <td>8.4</td>\n",
       "      <td>0</td>\n",
       "      <td>4</td>\n",
       "      <td>12</td>\n",
       "      <td>1685</td>\n",
       "      <td>5</td>\n",
       "    </tr>\n",
       "  </tbody>\n",
       "</table>\n",
       "</div>"
      ],
      "text/plain": [
       "   year count_date  hour  road_type   latitude  longitude  link_length_km  \\\n",
       "0  2005 2005-05-12     7       True  55.837029  -3.925646             8.4   \n",
       "1  2005 2005-05-12     8       True  55.837029  -3.925646             8.4   \n",
       "2  2005 2005-05-12     9       True  55.837029  -3.925646             8.4   \n",
       "3  2005 2005-05-12    10       True  55.837029  -3.925646             8.4   \n",
       "4  2005 2005-05-12    11       True  55.837029  -3.925646             8.4   \n",
       "\n",
       "   pedal_cycles  two_wheeled_motor_vehicles  buses_and_coaches  \\\n",
       "0             0                           2                 10   \n",
       "1             0                           4                  5   \n",
       "2             0                           4                 18   \n",
       "3             0                          10                 17   \n",
       "4             0                           4                 12   \n",
       "\n",
       "   all_motor_vehicles  month  \n",
       "0                3299      5  \n",
       "1                2852      5  \n",
       "2                2346      5  \n",
       "3                2392      5  \n",
       "4                1685      5  "
      ]
     },
     "execution_count": 6,
     "metadata": {},
     "output_type": "execute_result"
    }
   ],
   "source": [
    "df.head()"
   ]
  },
  {
   "cell_type": "markdown",
   "id": "voluntary-count",
   "metadata": {},
   "source": [
    "## Predicting Number of Motor Vehicles, Given Other Features (No Anonymization)"
   ]
  },
  {
   "cell_type": "markdown",
   "id": "aboriginal-great",
   "metadata": {},
   "source": [
    "This section of the notebook is the same as last week, predicting 'all_motor_vehicles' with no data anonymization. \n",
    "\n",
    "In our first experiment, we'll try to predict the amount of motor vehicle traffic using all of the other features, with no anonymization of the data. "
   ]
  },
  {
   "cell_type": "code",
   "execution_count": 7,
   "id": "enhanced-killing",
   "metadata": {},
   "outputs": [],
   "source": [
    "features = ['year', 'hour', 'month', 'latitude', 'longitude', 'link_length_km', 'pedal_cycles', 'two_wheeled_motor_vehicles', 'buses_and_coaches', 'road_type']\n",
    "\n",
    "X = df[features]"
   ]
  },
  {
   "cell_type": "code",
   "execution_count": 8,
   "id": "deluxe-joint",
   "metadata": {},
   "outputs": [],
   "source": [
    "y = df['all_motor_vehicles']"
   ]
  },
  {
   "cell_type": "markdown",
   "id": "enhanced-attribute",
   "metadata": {},
   "source": [
    "We'll rescale all of the features so that they will all fall within a similar range. "
   ]
  },
  {
   "cell_type": "code",
   "execution_count": 9,
   "id": "herbal-hartford",
   "metadata": {},
   "outputs": [],
   "source": [
    "X = preprocessing.StandardScaler().fit_transform(X)"
   ]
  },
  {
   "cell_type": "markdown",
   "id": "excessive-positive",
   "metadata": {},
   "source": [
    "We'll use 2/3 of the data for training and 1/3 for testing. "
   ]
  },
  {
   "cell_type": "code",
   "execution_count": 10,
   "id": "ambient-module",
   "metadata": {},
   "outputs": [],
   "source": [
    "X_train, X_test, y_train, y_test = train_test_split(X, y, test_size=0.33, random_state=42)"
   ]
  },
  {
   "cell_type": "markdown",
   "id": "german-growing",
   "metadata": {},
   "source": [
    "For now we'll use k-nearest neigbors regression. (yet another $k$ with yet another meaning)\n",
    "\n",
    "This is a very simple regression model that is often effective. Basically when we want to predict the value of the outcome variable for a test example, we find its $k$ nearest neighbours in the training set and predict the average of their values. \n",
    "\n",
    "You could also use linear regression, or a multi-layer perceptron, or a random forest model, for example. "
   ]
  },
  {
   "cell_type": "code",
   "execution_count": 11,
   "id": "bored-brunswick",
   "metadata": {},
   "outputs": [],
   "source": [
    "knn = KNeighborsRegressor(n_neighbors=10)"
   ]
  },
  {
   "cell_type": "code",
   "execution_count": 12,
   "id": "essential-prompt",
   "metadata": {},
   "outputs": [
    {
     "data": {
      "text/plain": [
       "KNeighborsRegressor(n_neighbors=10)"
      ]
     },
     "execution_count": 12,
     "metadata": {},
     "output_type": "execute_result"
    }
   ],
   "source": [
    "knn.fit(X_train, y_train)"
   ]
  },
  {
   "cell_type": "code",
   "execution_count": 13,
   "id": "loved-making",
   "metadata": {},
   "outputs": [],
   "source": [
    "preds = knn.predict(X_test)"
   ]
  },
  {
   "cell_type": "markdown",
   "id": "attempted-pointer",
   "metadata": {},
   "source": [
    "We're going to report an evaluation metric called the R2 score (or r-squared metric). Basically a value close to 1 is good as it means the predictive model explains much of the variance in the outcome variable. "
   ]
  },
  {
   "cell_type": "code",
   "execution_count": 14,
   "id": "photographic-syndrome",
   "metadata": {},
   "outputs": [
    {
     "name": "stdout",
     "output_type": "stream",
     "text": [
      "R2 Score (No Anonymization): 0.7825568558823538\n"
     ]
    }
   ],
   "source": [
    "r2_orig = r2_score(y_test, preds)\n",
    "print('R2 Score (No Anonymization):', r2_orig)"
   ]
  },
  {
   "cell_type": "markdown",
   "id": "laughing-enterprise",
   "metadata": {},
   "source": [
    "Not bad! We can compare the actual values with our predicted values. "
   ]
  },
  {
   "cell_type": "code",
   "execution_count": 15,
   "id": "floating-tuesday",
   "metadata": {},
   "outputs": [
    {
     "data": {
      "image/png": "[encoded data removed]",
      "text/plain": [
       "<Figure size 432x288 with 1 Axes>"
      ]
     },
     "metadata": {
      "needs_background": "light"
     },
     "output_type": "display_data"
    }
   ],
   "source": [
    "plt.figure()\n",
    "plt.scatter(y_test, preds)\n",
    "plt.xlabel('actual number of motor vehicles')\n",
    "plt.ylabel('predicted number of motor vehicles')\n",
    "plt.show()"
   ]
  },
  {
   "cell_type": "markdown",
   "id": "virtual-focus",
   "metadata": {},
   "source": [
    "# Predicting Number of Motor Vehicles (With PCA Anonymized Data)"
   ]
  },
  {
   "cell_type": "markdown",
   "id": "communist-respect",
   "metadata": {},
   "source": [
    "Now we'll try anonymizing the data using principal components analysis (PCA), and then trying the same prediction tasks on the anonymized data. "
   ]
  },
  {
   "cell_type": "code",
   "execution_count": 16,
   "id": "pretty-mining",
   "metadata": {},
   "outputs": [],
   "source": [
    "from sklearn.decomposition import PCA"
   ]
  },
  {
   "cell_type": "markdown",
   "id": "consecutive-trash",
   "metadata": {},
   "source": [
    "We'll use the same features again, but now transforming them with PCA. We'll rescale them before doing PCA. "
   ]
  },
  {
   "cell_type": "code",
   "execution_count": 17,
   "id": "planned-partnership",
   "metadata": {},
   "outputs": [],
   "source": [
    "features = ['year', 'hour', 'month', 'latitude', 'longitude', 'link_length_km', 'pedal_cycles', 'two_wheeled_motor_vehicles', 'buses_and_coaches', 'road_type']\n",
    "\n",
    "X = df[features]\n",
    "X = preprocessing.StandardScaler().fit_transform(X)\n",
    "\n",
    "y = df['all_motor_vehicles']"
   ]
  },
  {
   "cell_type": "code",
   "execution_count": 18,
   "id": "right-olympus",
   "metadata": {},
   "outputs": [
    {
     "name": "stdout",
     "output_type": "stream",
     "text": [
      "shape before PCA\n",
      "(268860, 10)\n",
      "shape after PCA\n",
      "(268860, 5)\n",
      "\n",
      "here we can see that each observation now has a score for each of the first n principal components:\n",
      "\n",
      "[[ 1.52324673 -0.90352347 -0.63528338 -1.46037018  0.97697834]\n",
      " [ 1.56089203 -0.95037782 -0.56454799 -1.25981819  0.63827759]\n",
      " [ 2.14696675 -0.35957413 -0.40611985 -1.19903623  0.55378178]\n",
      " ...\n",
      " [ 1.39088876  0.1490738  -0.30162901 -0.89571171 -0.15223174]\n",
      " [ 1.38400853  0.05795864 -0.24157155 -0.68899496 -0.50348839]\n",
      " [ 1.70293011  0.38319747 -0.14721098 -0.59122441 -0.66331963]]\n"
     ]
    }
   ],
   "source": [
    "print('shape before PCA')\n",
    "print(X.shape)\n",
    "    \n",
    "# number of PCA components to retain\n",
    "# e.g. first 5 principal components\n",
    "num_comps = 5\n",
    "    \n",
    "pca = PCA(n_components=num_comps)\n",
    "newX = pca.fit_transform(X)\n",
    "\n",
    "print('shape after PCA')\n",
    "print(newX.shape)   \n",
    "\n",
    "print('\\nhere we can see that each observation now has a score for each of the first n principal components:\\n')\n",
    "print(newX)"
   ]
  },
  {
   "cell_type": "code",
   "execution_count": 19,
   "id": "breeding-pollution",
   "metadata": {},
   "outputs": [
    {
     "name": "stdout",
     "output_type": "stream",
     "text": [
      "R2 Score (w/ PCA Anonymization): 0.6568925171839698\n"
     ]
    }
   ],
   "source": [
    "X_train, X_test, y_train, y_test = train_test_split(newX, y, test_size=0.33, random_state=42)\n",
    "\n",
    "knn = KNeighborsRegressor(n_neighbors=10)\n",
    "knn.fit(X_train, y_train)\n",
    "preds_anon = knn.predict(X_test)\n",
    "\n",
    "r2_anon = r2_score(y_test, preds_anon)\n",
    "print('R2 Score (w/ PCA Anonymization):', r2_anon)"
   ]
  },
  {
   "cell_type": "markdown",
   "id": "south-jacob",
   "metadata": {},
   "source": [
    "# Lab Assignment\n",
    "\n",
    "Try the following:\n",
    "   - Try different numbers of principal components to retain. See how the prediction performance on the anonymized data changes as you change the number of components. \n",
    "   - Try at least one other regression model other than k-nearest neighbors and see how it performs on this prediction task, both on the original data and on the anonymized data. You could use linear regression, or a multi-layer perceptron, or another regression model of your choice. \n",
    "   - When preprocessing the data, we replaced all missing values with 0. Change this so that each column has its missing values replaced with the median value of the column. See if this changes the performance of the prediction models. "
   ]
  },
  {
   "cell_type": "markdown",
   "id": "liable-array",
   "metadata": {},
   "source": [
    "### Deliverables: Submit your completed notebook via Blackboard. "
   ]
  },
  {
   "cell_type": "code",
   "execution_count": 20,
   "id": "69fb3b20",
   "metadata": {},
   "outputs": [
    {
     "name": "stdout",
     "output_type": "stream",
     "text": [
      "shape after PCA\n",
      "(268860, 7)\n",
      "\n",
      "here we can see that each observation now has a score for each of the first n principal components:\n",
      "\n",
      "[[ 1.52324673 -0.90352347 -0.63528338 ...  0.97697834  0.09809186\n",
      "   0.11870533]\n",
      " [ 1.56089203 -0.95037782 -0.56454799 ...  0.63827759 -0.02701955\n",
      "   0.38415106]\n",
      " [ 2.14696675 -0.35957413 -0.40611985 ...  0.55378178 -0.10109222\n",
      "   0.40969638]\n",
      " ...\n",
      " [ 1.39088876  0.1490738  -0.30162901 ... -0.15223174 -0.45573777\n",
      "  -0.02134429]\n",
      " [ 1.38400853  0.05795864 -0.24157155 ... -0.50348839 -0.57612986\n",
      "   0.24056643]\n",
      " [ 1.70293011  0.38319747 -0.14721098 ... -0.66331963 -0.62188668\n",
      "   0.24490169]]\n"
     ]
    }
   ],
   "source": [
    "num_comps = 7\n",
    "    \n",
    "pca = PCA(n_components=num_comps)\n",
    "newX = pca.fit_transform(X)\n",
    "\n",
    "print('shape after PCA')\n",
    "print(newX.shape)   \n",
    "\n",
    "print('\\nhere we can see that each observation now has a score for each of the first n principal components:\\n')\n",
    "print(newX)"
   ]
  },
  {
   "cell_type": "code",
   "execution_count": 21,
   "id": "2ad8d032",
   "metadata": {},
   "outputs": [
    {
     "name": "stdout",
     "output_type": "stream",
     "text": [
      "R2 Score (With Anonymization with 7 components and Linear Regression): 0.5911874111747557\n"
     ]
    }
   ],
   "source": [
    "from sklearn import linear_model\n",
    "X_train, X_test, y_train, y_test = train_test_split(newX, y, test_size=0.33, random_state=42)\n",
    "lm = linear_model.LinearRegression()\n",
    "\n",
    "lm.fit(X_train, y_train)\n",
    "\n",
    "preds_anon = lm.predict(X_test)\n",
    "\n",
    "r2_anon = r2_score(y_test, preds_anon)\n",
    "\n",
    "print('R2 Score (With Anonymization with 7 components and Linear Regression):', r2_anon)"
   ]
  },
  {
   "cell_type": "code",
   "execution_count": 22,
   "id": "e2440250",
   "metadata": {},
   "outputs": [
    {
     "name": "stdout",
     "output_type": "stream",
     "text": [
      "shape after PCA\n",
      "(268860, 3)\n",
      "\n",
      "here we can see that each observation now has a score for each of the first n principal components:\n",
      "\n",
      "[[ 1.52324673 -0.90352347 -0.63528338]\n",
      " [ 1.56089203 -0.95037782 -0.56454799]\n",
      " [ 2.14696675 -0.35957413 -0.40611985]\n",
      " ...\n",
      " [ 1.39088876  0.1490738  -0.30162901]\n",
      " [ 1.38400853  0.05795864 -0.24157155]\n",
      " [ 1.70293011  0.38319747 -0.14721098]]\n"
     ]
    }
   ],
   "source": [
    "num_comps = 3\n",
    "    \n",
    "pca = PCA(n_components=num_comps)\n",
    "newX = pca.fit_transform(X)\n",
    "\n",
    "print('shape after PCA')\n",
    "print(newX.shape)   \n",
    "\n",
    "print('\\nhere we can see that each observation now has a score for each of the first n principal components:\\n')\n",
    "print(newX)"
   ]
  },
  {
   "cell_type": "code",
   "execution_count": 23,
   "id": "0b9ef784",
   "metadata": {},
   "outputs": [
    {
     "name": "stdout",
     "output_type": "stream",
     "text": [
      "R2 Score (With Anonymization with 3 components and Linear Regression): 0.42668331554169336\n"
     ]
    }
   ],
   "source": [
    "X_train, X_test, y_train, y_test = train_test_split(newX, y, test_size=0.33, random_state=42)\n",
    "lm = linear_model.LinearRegression()\n",
    "\n",
    "lm.fit(X_train, y_train)\n",
    "\n",
    "preds_anon = lm.predict(X_test)\n",
    "\n",
    "r2_anon = r2_score(y_test, preds_anon)\n",
    "\n",
    "print('R2 Score (With Anonymization with 3 components and Linear Regression):', r2_anon)"
   ]
  },
  {
   "cell_type": "code",
   "execution_count": 25,
   "id": "7a38542a",
   "metadata": {},
   "outputs": [],
   "source": [
    "df = pd.read_csv('scotland-traffic.csv', parse_dates=['count_date'])\n",
    "df['month'] = pd.DatetimeIndex(df['count_date']).month\n",
    "df['road_type'] = df['road_type'] == 'Major'"
   ]
  },
  {
   "cell_type": "code",
   "execution_count": 28,
   "id": "fb6cddd7",
   "metadata": {},
   "outputs": [],
   "source": [
    "df = df[~df.all_motor_vehicles.isna()]\n",
    "df.fillna(df.median(numeric_only=True), inplace=True)"
   ]
  },
  {
   "cell_type": "code",
   "execution_count": 30,
   "id": "75139e11",
   "metadata": {},
   "outputs": [
    {
     "name": "stdout",
     "output_type": "stream",
     "text": [
      "shape before PCA\n",
      "(268860, 10)\n",
      "shape after PCA\n",
      "(268860, 3)\n",
      "\n",
      "here we can see that each observation now has a score for each of the first n principal components:\n",
      "\n",
      "[[ 1.09877366 -1.23099484 -0.63153133]\n",
      " [ 1.12635002 -1.29074535 -0.56142759]\n",
      " [ 1.85360654 -0.92697774 -0.43956075]\n",
      " ...\n",
      " [ 1.43783418 -0.08524316 -0.28869   ]\n",
      " [ 1.41023623 -0.17220167 -0.22661972]\n",
      " [ 1.80644695  0.02831793 -0.15295365]]\n",
      "R2 Score (With Anonymization with 3 components and Linear Regression with missing data values as median): 0.44547132562747216\n"
     ]
    }
   ],
   "source": [
    "features = ['year', 'hour', 'month', 'latitude', 'longitude', 'link_length_km', 'pedal_cycles', 'two_wheeled_motor_vehicles', 'buses_and_coaches', 'road_type']\n",
    "X = df[features]\n",
    "X = preprocessing.StandardScaler().fit_transform(X)\n",
    "\n",
    "y = df['all_motor_vehicles']\n",
    "\n",
    "print('shape before PCA')\n",
    "print(X.shape)\n",
    "\n",
    "num_comps = 3\n",
    "    \n",
    "pca = PCA(n_components=num_comps)\n",
    "newX = pca.fit_transform(X)\n",
    "\n",
    "print('shape after PCA')\n",
    "print(newX.shape)   \n",
    "\n",
    "print('\\nhere we can see that each observation now has a score for each of the first n principal components:\\n')\n",
    "print(newX)\n",
    "\n",
    "X_train, X_test, y_train, y_test = train_test_split(newX, y, test_size=0.33, random_state=42)\n",
    "lm = linear_model.LinearRegression()\n",
    "\n",
    "lm.fit(X_train, y_train)\n",
    "\n",
    "preds_anon = lm.predict(X_test)\n",
    "\n",
    "r2_anon = r2_score(y_test, preds_anon)\n",
    "\n",
    "print('R2 Score (With Anonymization with 3 components and Linear Regression with missing data values as median):', r2_anon)"
   ]
  },
  {
   "cell_type": "markdown",
   "id": "4e0bb7ab",
   "metadata": {},
   "source": [
    "We can see that as the number of components increased, the score increased. When we replaced the missing values with the median of the columns, we can see that the score improved by approximately 0.02 using the 3 components and linear regression."
   ]
  }
 ],
 "metadata": {
  "kernelspec": {
   "display_name": "Python 3 (ipykernel)",
   "language": "python",
   "name": "python3"
  },
  "language_info": {
   "codemirror_mode": {
    "name": "ipython",
    "version": 3
   },
   "file_extension": ".py",
   "mimetype": "text/x-python",
   "name": "python",
   "nbconvert_exporter": "python",
   "pygments_lexer": "ipython3",
   "version": "3.9.7"
  }
 },
 "nbformat": 4,
 "nbformat_minor": 5
}
