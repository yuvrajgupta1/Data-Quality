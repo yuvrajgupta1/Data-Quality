{
 "cells": [
  {
   "cell_type": "markdown",
   "metadata": {},
   "source": [
    "# Linear Regression with Python and sklearn"
   ]
  },
  {
   "cell_type": "code",
   "execution_count": 2,
   "metadata": {},
   "outputs": [],
   "source": [
    "import pandas as pd\n",
    "import matplotlib.pyplot as plt\n",
    "from sklearn import linear_model\n",
    "\n",
    "# Enable inline plotting\n",
    "%matplotlib inline"
   ]
  },
  {
   "cell_type": "markdown",
   "metadata": {},
   "source": [
    "## Reading in Data\n",
    "\n",
    "We'll read in a dataset containing some information about housing in Boston."
   ]
  },
  {
   "cell_type": "code",
   "execution_count": 3,
   "metadata": {},
   "outputs": [
    {
     "name": "stdout",
     "output_type": "stream",
     "text": [
      "                        College Private  Apps  Accept  Enroll  Top10perc  \\\n",
      "0  Abilene Christian University     Yes  1660    1232     721         23   \n",
      "1            Adelphi University     Yes  2186    1924     512         16   \n",
      "2                Adrian College     Yes  1428    1097     336         22   \n",
      "3           Agnes Scott College     Yes   417     349     137         60   \n",
      "4     Alaska Pacific University     Yes   193     146      55         16   \n",
      "\n",
      "   Top25perc  F.Undergrad  P.Undergrad  Outstate  Room.Board  Books  Personal  \\\n",
      "0         52         2885          537      7440        3300    450      2200   \n",
      "1         29         2683         1227     12280        6450    750      1500   \n",
      "2         50         1036           99     11250        3750    400      1165   \n",
      "3         89          510           63     12960        5450    450       875   \n",
      "4         44          249          869      7560        4120    800      1500   \n",
      "\n",
      "   PhD  Terminal  S.F.Ratio  perc.alumni  Expend  Grad.Rate  \n",
      "0   70        78       18.1           12    7041         60  \n",
      "1   29        30       12.2           16   10527         56  \n",
      "2   53        66       12.9           30    8735         54  \n",
      "3   92        97        7.7           37   19016         59  \n",
      "4   76        72       11.9            2   10922         15  \n"
     ]
    }
   ],
   "source": [
    "df = pd.read_csv('College.csv')\n",
    "print(df.head())"
   ]
  },
  {
   "cell_type": "markdown",
   "metadata": {},
   "source": [
    "Let's predict graduation rate (Grad.Rate) based on the other variables. So Grad.Rate will be our outcome (y) and the other variables will be our features (X). \n",
    "\n",
    "The following commands separate the data into X and y, and also get rid of the College and Private columns for now."
   ]
  },
  {
   "cell_type": "code",
   "execution_count": 4,
   "metadata": {},
   "outputs": [
    {
     "name": "stdout",
     "output_type": "stream",
     "text": [
      "Here are the features (X):\n",
      "   Apps  Accept  Enroll  Top10perc  Top25perc  F.Undergrad  P.Undergrad  \\\n",
      "0  1660    1232     721         23         52         2885          537   \n",
      "1  2186    1924     512         16         29         2683         1227   \n",
      "2  1428    1097     336         22         50         1036           99   \n",
      "3   417     349     137         60         89          510           63   \n",
      "4   193     146      55         16         44          249          869   \n",
      "\n",
      "   Outstate  Room.Board  Books  Personal  PhD  Terminal  S.F.Ratio  \\\n",
      "0      7440        3300    450      2200   70        78       18.1   \n",
      "1     12280        6450    750      1500   29        30       12.2   \n",
      "2     11250        3750    400      1165   53        66       12.9   \n",
      "3     12960        5450    450       875   92        97        7.7   \n",
      "4      7560        4120    800      1500   76        72       11.9   \n",
      "\n",
      "   perc.alumni  Expend  \n",
      "0           12    7041  \n",
      "1           16   10527  \n",
      "2           30    8735  \n",
      "3           37   19016  \n",
      "4            2   10922  \n",
      "Here is the outcome variable (y):\n",
      "0      60\n",
      "1      56\n",
      "2      54\n",
      "3      59\n",
      "4      15\n",
      "       ..\n",
      "772    40\n",
      "773    83\n",
      "774    49\n",
      "775    99\n",
      "776    99\n",
      "Name: Grad.Rate, Length: 777, dtype: int64\n"
     ]
    }
   ],
   "source": [
    "X = df.drop(['College', 'Private', 'Grad.Rate'], axis=1)\n",
    "print(\"Here are the features (X):\")\n",
    "print(X.head())\n",
    "print(\"Here is the outcome variable (y):\")\n",
    "y = df['Grad.Rate']\n",
    "print(y)"
   ]
  },
  {
   "cell_type": "markdown",
   "metadata": {},
   "source": [
    "## Training and Testing Datasets\n",
    "\n",
    "We will use part of the data for fitting/learning the regression model. We call that the _training_ set.\n",
    "\n",
    "We use the remainder of the data for evaluating the model predictions. We call that the _test_ set."
   ]
  },
  {
   "cell_type": "code",
   "execution_count": 5,
   "metadata": {},
   "outputs": [],
   "source": [
    "X_train = X[0:400]\n",
    "X_test = X[400:]\n",
    "\n",
    "y_train = y[0:400]\n",
    "y_test = y[400:]"
   ]
  },
  {
   "cell_type": "markdown",
   "metadata": {},
   "source": [
    "## Regression Models in sklearn"
   ]
  },
  {
   "cell_type": "markdown",
   "metadata": {},
   "source": [
    "We create an instance of the LinearRegression class in sklearn:"
   ]
  },
  {
   "cell_type": "code",
   "execution_count": 6,
   "metadata": {},
   "outputs": [],
   "source": [
    "lm = linear_model.LinearRegression()"
   ]
  },
  {
   "cell_type": "markdown",
   "metadata": {},
   "source": [
    "We then fit the model to the training data. "
   ]
  },
  {
   "cell_type": "code",
   "execution_count": 7,
   "metadata": {},
   "outputs": [
    {
     "data": {
      "text/plain": [
       "LinearRegression()"
      ]
     },
     "execution_count": 7,
     "metadata": {},
     "output_type": "execute_result"
    }
   ],
   "source": [
    "lm.fit(X_train, y_train)"
   ]
  },
  {
   "cell_type": "markdown",
   "metadata": {},
   "source": [
    "We can check the coefficients/parameters, and the intercept term. "
   ]
  },
  {
   "cell_type": "code",
   "execution_count": 8,
   "metadata": {},
   "outputs": [
    {
     "name": "stdout",
     "output_type": "stream",
     "text": [
      "[ 1.73094725e-03  9.73215572e-04 -2.92979473e-03  6.33511633e-02\n",
      "  2.35318203e-01 -7.91192944e-04 -1.03474607e-03  6.19720557e-04\n",
      "  3.21242015e-03 -1.67458024e-03 -8.90950247e-05  5.50300904e-02\n",
      " -2.91024587e-02  1.95936993e-02  2.78109769e-01 -6.70829441e-04]\n",
      "28.98530310521255\n"
     ]
    }
   ],
   "source": [
    "print(lm.coef_)\n",
    "print(lm.intercept_)"
   ]
  },
  {
   "cell_type": "markdown",
   "metadata": {
    "collapsed": true
   },
   "source": [
    "Then we can get predictions on the unseen test data. "
   ]
  },
  {
   "cell_type": "code",
   "execution_count": 9,
   "metadata": {},
   "outputs": [
    {
     "data": {
      "image/png": "[encoded data removed]",
      "text/plain": [
       "<Figure size 432x288 with 1 Axes>"
      ]
     },
     "metadata": {
      "needs_background": "light"
     },
     "output_type": "display_data"
    }
   ],
   "source": [
    "preds = lm.predict(X_test)\n",
    "\n",
    "plt.figure()\n",
    "plt.scatter(y_test, preds)\n",
    "plt.xlabel('actual graduation rate')\n",
    "plt.ylabel('predicted graduation rate')\n",
    "plt.show()"
   ]
  },
  {
   "cell_type": "markdown",
   "metadata": {},
   "source": [
    "# Evaluation"
   ]
  },
  {
   "cell_type": "markdown",
   "metadata": {},
   "source": [
    "We can calculate the mean squared error (MSE) to see how good our predictions are. \n"
   ]
  },
  {
   "cell_type": "code",
   "execution_count": 10,
   "metadata": {},
   "outputs": [
    {
     "name": "stdout",
     "output_type": "stream",
     "text": [
      "MSE:  180.1713448058067\n"
     ]
    }
   ],
   "source": [
    "mse = sum((y_test - preds)**2) / len(preds)\n",
    "print(\"MSE: \", mse)"
   ]
  },
  {
   "cell_type": "markdown",
   "metadata": {},
   "source": [
    "How does this compare with a simpler model with fewer features?"
   ]
  },
  {
   "cell_type": "code",
   "execution_count": 11,
   "metadata": {},
   "outputs": [
    {
     "name": "stdout",
     "output_type": "stream",
     "text": [
      "MSE:  291.0988032531082\n"
     ]
    }
   ],
   "source": [
    "X_small_train = X_train[['Apps', 'PhD']]\n",
    "#print(X_small_train)\n",
    "lm.fit(X_small_train, y_train)\n",
    "preds_2 = lm.predict(X_test[['Apps', 'PhD']])\n",
    "\n",
    "mse = sum((y_test - preds_2)**2) / len(preds_2)\n",
    "print(\"MSE: \", mse)"
   ]
  },
  {
   "cell_type": "markdown",
   "metadata": {
    "collapsed": true
   },
   "source": [
    "# Lab Assignment\n",
    "\n",
    "+ Load the Heart data that has been provided to you (heart.csv).\n",
    "+ Drop the non-numeric variables (ChestPain, Thal, AHD).\n",
    " + (We can look at recoding these as numeric variables later.)\n",
    "+ Choose one of the numeric variables as the outcome variable that you want to predict.\n",
    "+ Divide the data into features (X) and outcome variable (y).\n",
    "+ Divide the data into training and test sets, e.g. 200 records in the training set and the remaining 99 in your test set. \n",
    "+ Fit two linear regression models:\n",
    " + A first model uses a small number of predictors, e.g. one or two. \n",
    " + The second model uses a larger number of predictors.\n",
    "+ Compare your two models in terms of their MSE on the test set. \n",
    "+ Plot the actual value vs. predicted value from your best model on the test set."
   ]
  },
  {
   "cell_type": "code",
   "execution_count": 4,
   "metadata": {},
   "outputs": [],
   "source": [
    "df2 = pd.read_csv('heart.csv')"
   ]
  },
  {
   "cell_type": "code",
   "execution_count": 7,
   "metadata": {},
   "outputs": [
    {
     "name": "stdout",
     "output_type": "stream",
     "text": [
      "Here are the features (X):\n",
      "   Age  Sex  RestBP  Chol  Fbs  RestECG  MaxHR  ExAng  Oldpeak  Slope  Ca\n",
      "0   63    1     145   233    1        2    150      0      2.3      3   0\n",
      "1   67    1     160   286    0        2    108      1      1.5      2   3\n",
      "2   67    1     120   229    0        2    129      1      2.6      2   2\n",
      "3   37    1     130   250    0        0    187      0      3.5      3   0\n",
      "4   41    0     130   204    0        2    172      0      1.4      1   0\n",
      "Here is the outcome variable (y):\n",
      "0      233\n",
      "1      286\n",
      "2      229\n",
      "3      250\n",
      "4      204\n",
      "      ... \n",
      "292    241\n",
      "293    264\n",
      "294    193\n",
      "295    131\n",
      "296    236\n",
      "Name: Chol, Length: 297, dtype: int64\n"
     ]
    }
   ],
   "source": [
    "X1 = df2.drop(['ChestPain', 'Thal', 'AHD'], axis=1)\n",
    "print(\"Here are the features (X):\")\n",
    "print(X1.head())\n",
    "print(\"Here is the outcome variable (y):\")\n",
    "y1 = df2['Chol']\n",
    "print(y1)"
   ]
  },
  {
   "cell_type": "code",
   "execution_count": 8,
   "metadata": {},
   "outputs": [],
   "source": [
    "X1_train = X1[0:150]\n",
    "X1_test = X1[150:]\n",
    "\n",
    "y1_train = y1[0:150]\n",
    "y1_test = y1[150:]"
   ]
  },
  {
   "cell_type": "code",
   "execution_count": 9,
   "metadata": {},
   "outputs": [],
   "source": [
    "lm1 = linear_model.LinearRegression()"
   ]
  },
  {
   "cell_type": "code",
   "execution_count": 10,
   "metadata": {},
   "outputs": [
    {
     "data": {
      "text/plain": [
       "LinearRegression()"
      ]
     },
     "execution_count": 10,
     "metadata": {},
     "output_type": "execute_result"
    }
   ],
   "source": [
    "lm1.fit(X1_train, y1_train)"
   ]
  },
  {
   "cell_type": "code",
   "execution_count": 11,
   "metadata": {},
   "outputs": [
    {
     "name": "stdout",
     "output_type": "stream",
     "text": [
      "[ 1.11995975e-15  2.35367281e-14 -3.26520669e-16  1.00000000e+00\n",
      " -3.80555119e-16  5.28231615e-17  6.11859811e-16 -3.14129866e-16\n",
      "  2.89669320e-16  2.71102287e-17  2.00862391e-16]\n",
      "-5.684341886080802e-14\n"
     ]
    }
   ],
   "source": [
    "print(lm1.coef_)\n",
    "print(lm1.intercept_)"
   ]
  },
  {
   "cell_type": "code",
   "execution_count": 13,
   "metadata": {},
   "outputs": [
    {
     "data": {
      "image/png": "[encoded data removed]",
      "text/plain": [
       "<Figure size 432x288 with 1 Axes>"
      ]
     },
     "metadata": {
      "needs_background": "light"
     },
     "output_type": "display_data"
    }
   ],
   "source": [
    "preds1 = lm1.predict(X1_test)\n",
    "\n",
    "plt.figure()\n",
    "plt.scatter(y1_test, preds1)\n",
    "plt.xlabel('actual Cholestrol')\n",
    "plt.ylabel('predicted Cholestrol')\n",
    "plt.show()"
   ]
  },
  {
   "cell_type": "code",
   "execution_count": 14,
   "metadata": {},
   "outputs": [
    {
     "name": "stdout",
     "output_type": "stream",
     "text": [
      "MSE:  9.122022592727106e-28\n"
     ]
    }
   ],
   "source": [
    "mse = sum((y1_test - preds1)**2) / len(preds1)\n",
    "print(\"MSE: \", mse)"
   ]
  },
  {
   "cell_type": "code",
   "execution_count": 15,
   "metadata": {},
   "outputs": [
    {
     "name": "stdout",
     "output_type": "stream",
     "text": [
      "MSE:  3022.346791155112\n"
     ]
    }
   ],
   "source": [
    "X1_small_train = X1_train[['Fbs', 'RestECG']]\n",
    "#print(X_small_train)\n",
    "lm1.fit(X1_small_train, y1_train)\n",
    "preds2 = lm1.predict(X1_test[['Fbs', 'RestECG']])\n",
    "\n",
    "mse = sum((y1_test - preds2)**2) / len(preds2)\n",
    "print(\"MSE: \", mse)"
   ]
  },
  {
   "cell_type": "markdown",
   "metadata": {},
   "source": [
    "The MSE is very small when we take account of all predictors and hence is the best model. The best model is plotted above."
   ]
  },
  {
   "cell_type": "code",
   "execution_count": null,
   "metadata": {},
   "outputs": [],
   "source": []
  }
 ],
 "metadata": {
  "anaconda-cloud": {},
  "kernelspec": {
   "display_name": "Python 3 (ipykernel)",
   "language": "python",
   "name": "python3"
  },
  "language_info": {
   "codemirror_mode": {
    "name": "ipython",
    "version": 3
   },
   "file_extension": ".py",
   "mimetype": "text/x-python",
   "name": "python",
   "nbconvert_exporter": "python",
   "pygments_lexer": "ipython3",
   "version": "3.9.7"
  }
 },
 "nbformat": 4,
 "nbformat_minor": 1
}
