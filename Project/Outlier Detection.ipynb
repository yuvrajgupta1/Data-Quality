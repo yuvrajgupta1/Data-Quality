{
 "cells": [
  {
   "cell_type": "markdown",
   "id": "45faaca7",
   "metadata": {},
   "source": [
    "# Project: Outlier Detection"
   ]
  },
  {
   "cell_type": "markdown",
   "id": "dadeb70e",
   "metadata": {},
   "source": [
    "In this project, I aim to detect any outliers in the data set of average localization error in sensor node localization process in WSNs. The source of the dataset states that ALE can be predicted using the four variables. Moreover, there are no missing values in the dataset. "
   ]
  },
  {
   "cell_type": "code",
   "execution_count": 1,
   "id": "a8db1670",
   "metadata": {},
   "outputs": [],
   "source": [
    "import pandas as pd\n",
    "import matplotlib.pyplot as plt\n",
    "\n",
    "# Enable inline plotting\n",
    "%matplotlib inline"
   ]
  },
  {
   "cell_type": "markdown",
   "id": "52775cef",
   "metadata": {},
   "source": [
    "# Reading in Data"
   ]
  },
  {
   "cell_type": "code",
   "execution_count": 2,
   "id": "e032e604",
   "metadata": {},
   "outputs": [],
   "source": [
    "df = pd.read_csv(\"ALE.csv\")"
   ]
  },
  {
   "cell_type": "markdown",
   "id": "9882e369",
   "metadata": {},
   "source": [
    "We will use the head() function to look at the rows and columns."
   ]
  },
  {
   "cell_type": "code",
   "execution_count": 3,
   "id": "1006470b",
   "metadata": {},
   "outputs": [
    {
     "data": {
      "text/html": [
       "<div>\n",
       "<style scoped>\n",
       "    .dataframe tbody tr th:only-of-type {\n",
       "        vertical-align: middle;\n",
       "    }\n",
       "\n",
       "    .dataframe tbody tr th {\n",
       "        vertical-align: top;\n",
       "    }\n",
       "\n",
       "    .dataframe thead th {\n",
       "        text-align: right;\n",
       "    }\n",
       "</style>\n",
       "<table border=\"1\" class=\"dataframe\">\n",
       "  <thead>\n",
       "    <tr style=\"text-align: right;\">\n",
       "      <th></th>\n",
       "      <th>anchor_ratio</th>\n",
       "      <th>trans_range</th>\n",
       "      <th>node_density</th>\n",
       "      <th>iterations</th>\n",
       "      <th>ale</th>\n",
       "      <th>sd_ale</th>\n",
       "    </tr>\n",
       "  </thead>\n",
       "  <tbody>\n",
       "    <tr>\n",
       "      <th>0</th>\n",
       "      <td>30</td>\n",
       "      <td>15</td>\n",
       "      <td>200</td>\n",
       "      <td>40</td>\n",
       "      <td>0.773546</td>\n",
       "      <td>0.250555</td>\n",
       "    </tr>\n",
       "    <tr>\n",
       "      <th>1</th>\n",
       "      <td>15</td>\n",
       "      <td>15</td>\n",
       "      <td>100</td>\n",
       "      <td>70</td>\n",
       "      <td>0.911941</td>\n",
       "      <td>0.498329</td>\n",
       "    </tr>\n",
       "    <tr>\n",
       "      <th>2</th>\n",
       "      <td>30</td>\n",
       "      <td>15</td>\n",
       "      <td>100</td>\n",
       "      <td>50</td>\n",
       "      <td>0.814867</td>\n",
       "      <td>0.255546</td>\n",
       "    </tr>\n",
       "    <tr>\n",
       "      <th>3</th>\n",
       "      <td>15</td>\n",
       "      <td>20</td>\n",
       "      <td>100</td>\n",
       "      <td>20</td>\n",
       "      <td>1.435332</td>\n",
       "      <td>0.394603</td>\n",
       "    </tr>\n",
       "    <tr>\n",
       "      <th>4</th>\n",
       "      <td>30</td>\n",
       "      <td>15</td>\n",
       "      <td>100</td>\n",
       "      <td>40</td>\n",
       "      <td>1.265909</td>\n",
       "      <td>0.302943</td>\n",
       "    </tr>\n",
       "  </tbody>\n",
       "</table>\n",
       "</div>"
      ],
      "text/plain": [
       "   anchor_ratio  trans_range  node_density  iterations       ale    sd_ale\n",
       "0            30           15           200          40  0.773546  0.250555\n",
       "1            15           15           100          70  0.911941  0.498329\n",
       "2            30           15           100          50  0.814867  0.255546\n",
       "3            15           20           100          20  1.435332  0.394603\n",
       "4            30           15           100          40  1.265909  0.302943"
      ]
     },
     "execution_count": 3,
     "metadata": {},
     "output_type": "execute_result"
    }
   ],
   "source": [
    "df.head()"
   ]
  },
  {
   "cell_type": "markdown",
   "id": "ae7f4cb5",
   "metadata": {},
   "source": [
    "We will drop sd_ale in our exploratory analysis because it is the standard deviation of ale which we will not use right now"
   ]
  },
  {
   "cell_type": "code",
   "execution_count": 8,
   "id": "0c3d1b4f",
   "metadata": {},
   "outputs": [
    {
     "data": {
      "text/html": [
       "<div>\n",
       "<style scoped>\n",
       "    .dataframe tbody tr th:only-of-type {\n",
       "        vertical-align: middle;\n",
       "    }\n",
       "\n",
       "    .dataframe tbody tr th {\n",
       "        vertical-align: top;\n",
       "    }\n",
       "\n",
       "    .dataframe thead th {\n",
       "        text-align: right;\n",
       "    }\n",
       "</style>\n",
       "<table border=\"1\" class=\"dataframe\">\n",
       "  <thead>\n",
       "    <tr style=\"text-align: right;\">\n",
       "      <th></th>\n",
       "      <th>anchor_ratio</th>\n",
       "      <th>trans_range</th>\n",
       "      <th>node_density</th>\n",
       "      <th>iterations</th>\n",
       "      <th>ale</th>\n",
       "    </tr>\n",
       "  </thead>\n",
       "  <tbody>\n",
       "    <tr>\n",
       "      <th>0</th>\n",
       "      <td>30</td>\n",
       "      <td>15</td>\n",
       "      <td>200</td>\n",
       "      <td>40</td>\n",
       "      <td>0.773546</td>\n",
       "    </tr>\n",
       "    <tr>\n",
       "      <th>1</th>\n",
       "      <td>15</td>\n",
       "      <td>15</td>\n",
       "      <td>100</td>\n",
       "      <td>70</td>\n",
       "      <td>0.911941</td>\n",
       "    </tr>\n",
       "    <tr>\n",
       "      <th>2</th>\n",
       "      <td>30</td>\n",
       "      <td>15</td>\n",
       "      <td>100</td>\n",
       "      <td>50</td>\n",
       "      <td>0.814867</td>\n",
       "    </tr>\n",
       "    <tr>\n",
       "      <th>3</th>\n",
       "      <td>15</td>\n",
       "      <td>20</td>\n",
       "      <td>100</td>\n",
       "      <td>20</td>\n",
       "      <td>1.435332</td>\n",
       "    </tr>\n",
       "    <tr>\n",
       "      <th>4</th>\n",
       "      <td>30</td>\n",
       "      <td>15</td>\n",
       "      <td>100</td>\n",
       "      <td>40</td>\n",
       "      <td>1.265909</td>\n",
       "    </tr>\n",
       "  </tbody>\n",
       "</table>\n",
       "</div>"
      ],
      "text/plain": [
       "   anchor_ratio  trans_range  node_density  iterations       ale\n",
       "0            30           15           200          40  0.773546\n",
       "1            15           15           100          70  0.911941\n",
       "2            30           15           100          50  0.814867\n",
       "3            15           20           100          20  1.435332\n",
       "4            30           15           100          40  1.265909"
      ]
     },
     "execution_count": 8,
     "metadata": {},
     "output_type": "execute_result"
    }
   ],
   "source": [
    "df_drop = df.drop([\"sd_ale\"], axis = 1)\n",
    "df_drop.head()"
   ]
  },
  {
   "cell_type": "markdown",
   "id": "bb5469ba",
   "metadata": {},
   "source": [
    "We will summarize the data using describe() function."
   ]
  },
  {
   "cell_type": "code",
   "execution_count": 9,
   "id": "f07b269d",
   "metadata": {},
   "outputs": [
    {
     "data": {
      "text/html": [
       "<div>\n",
       "<style scoped>\n",
       "    .dataframe tbody tr th:only-of-type {\n",
       "        vertical-align: middle;\n",
       "    }\n",
       "\n",
       "    .dataframe tbody tr th {\n",
       "        vertical-align: top;\n",
       "    }\n",
       "\n",
       "    .dataframe thead th {\n",
       "        text-align: right;\n",
       "    }\n",
       "</style>\n",
       "<table border=\"1\" class=\"dataframe\">\n",
       "  <thead>\n",
       "    <tr style=\"text-align: right;\">\n",
       "      <th></th>\n",
       "      <th>anchor_ratio</th>\n",
       "      <th>trans_range</th>\n",
       "      <th>node_density</th>\n",
       "      <th>iterations</th>\n",
       "      <th>ale</th>\n",
       "    </tr>\n",
       "  </thead>\n",
       "  <tbody>\n",
       "    <tr>\n",
       "      <th>count</th>\n",
       "      <td>107.000000</td>\n",
       "      <td>107.000000</td>\n",
       "      <td>107.000000</td>\n",
       "      <td>107.000000</td>\n",
       "      <td>107.000000</td>\n",
       "    </tr>\n",
       "    <tr>\n",
       "      <th>mean</th>\n",
       "      <td>20.523364</td>\n",
       "      <td>17.878505</td>\n",
       "      <td>159.813084</td>\n",
       "      <td>47.887850</td>\n",
       "      <td>0.983471</td>\n",
       "    </tr>\n",
       "    <tr>\n",
       "      <th>std</th>\n",
       "      <td>6.739556</td>\n",
       "      <td>3.107235</td>\n",
       "      <td>71.189109</td>\n",
       "      <td>24.668874</td>\n",
       "      <td>0.408313</td>\n",
       "    </tr>\n",
       "    <tr>\n",
       "      <th>min</th>\n",
       "      <td>10.000000</td>\n",
       "      <td>12.000000</td>\n",
       "      <td>100.000000</td>\n",
       "      <td>14.000000</td>\n",
       "      <td>0.394029</td>\n",
       "    </tr>\n",
       "    <tr>\n",
       "      <th>25%</th>\n",
       "      <td>15.000000</td>\n",
       "      <td>15.000000</td>\n",
       "      <td>100.000000</td>\n",
       "      <td>30.000000</td>\n",
       "      <td>0.655368</td>\n",
       "    </tr>\n",
       "    <tr>\n",
       "      <th>50%</th>\n",
       "      <td>18.000000</td>\n",
       "      <td>17.000000</td>\n",
       "      <td>100.000000</td>\n",
       "      <td>40.000000</td>\n",
       "      <td>0.899102</td>\n",
       "    </tr>\n",
       "    <tr>\n",
       "      <th>75%</th>\n",
       "      <td>30.000000</td>\n",
       "      <td>20.000000</td>\n",
       "      <td>200.000000</td>\n",
       "      <td>70.000000</td>\n",
       "      <td>1.196418</td>\n",
       "    </tr>\n",
       "    <tr>\n",
       "      <th>max</th>\n",
       "      <td>30.000000</td>\n",
       "      <td>25.000000</td>\n",
       "      <td>300.000000</td>\n",
       "      <td>100.000000</td>\n",
       "      <td>2.568407</td>\n",
       "    </tr>\n",
       "  </tbody>\n",
       "</table>\n",
       "</div>"
      ],
      "text/plain": [
       "       anchor_ratio  trans_range  node_density  iterations         ale\n",
       "count    107.000000   107.000000    107.000000  107.000000  107.000000\n",
       "mean      20.523364    17.878505    159.813084   47.887850    0.983471\n",
       "std        6.739556     3.107235     71.189109   24.668874    0.408313\n",
       "min       10.000000    12.000000    100.000000   14.000000    0.394029\n",
       "25%       15.000000    15.000000    100.000000   30.000000    0.655368\n",
       "50%       18.000000    17.000000    100.000000   40.000000    0.899102\n",
       "75%       30.000000    20.000000    200.000000   70.000000    1.196418\n",
       "max       30.000000    25.000000    300.000000  100.000000    2.568407"
      ]
     },
     "execution_count": 9,
     "metadata": {},
     "output_type": "execute_result"
    }
   ],
   "source": [
    "df_drop.describe()"
   ]
  },
  {
   "cell_type": "markdown",
   "id": "cedcac3b",
   "metadata": {},
   "source": [
    "25% of the ale data is less than 0.655368, and 75% of the ale data is more than 1.196418. We can see that 25% of Anchor Ratio and Trans Range is less than 15."
   ]
  },
  {
   "cell_type": "markdown",
   "id": "120a426f",
   "metadata": {},
   "source": [
    "# Visualizing Data"
   ]
  },
  {
   "cell_type": "markdown",
   "id": "a0b63e7d",
   "metadata": {},
   "source": [
    "We will visualize the relationship between the variables using boxplot and scatterplot."
   ]
  },
  {
   "cell_type": "code",
   "execution_count": 11,
   "id": "817ce113",
   "metadata": {},
   "outputs": [
    {
     "data": {
      "text/plain": [
       "<Figure size 432x288 with 0 Axes>"
      ]
     },
     "metadata": {},
     "output_type": "display_data"
    },
    {
     "data": {
      "image/png": "[encoded data removed]",
      "text/plain": [
       "<Figure size 432x288 with 1 Axes>"
      ]
     },
     "metadata": {
      "needs_background": "light"
     },
     "output_type": "display_data"
    }
   ],
   "source": [
    "plt.figure()\n",
    "df_drop.boxplot(column='ale', by='node_density', grid=False)\n",
    "plt.xlabel('ALE by Node Density')\n",
    "plt.suptitle(\"\")\n",
    "plt.title(\"Boxplot\")\n",
    "plt.show()"
   ]
  },
  {
   "cell_type": "code",
   "execution_count": 29,
   "id": "b72a6dd0",
   "metadata": {},
   "outputs": [
    {
     "data": {
      "text/plain": [
       "<Figure size 432x288 with 0 Axes>"
      ]
     },
     "metadata": {},
     "output_type": "display_data"
    },
    {
     "data": {
      "image/png": "[encoded data removed]",
      "text/plain": [
       "<Figure size 432x288 with 1 Axes>"
      ]
     },
     "metadata": {
      "needs_background": "light"
     },
     "output_type": "display_data"
    }
   ],
   "source": [
    "plt.figure()\n",
    "df_drop.plot.scatter('ale', 'trans_range')\n",
    "plt.xlabel('ALE')\n",
    "plt.ylabel('Trans Range')\n",
    "plt.show()"
   ]
  },
  {
   "cell_type": "markdown",
   "id": "b01bb3eb",
   "metadata": {},
   "source": [
    "We can see that outliers are better visualized using boxplots. Scatterplots are used to identify the relationship between 2 variables. We can see that ALE and Trans Range are negatively correlated."
   ]
  },
  {
   "cell_type": "code",
   "execution_count": 31,
   "id": "c4f5be8d",
   "metadata": {},
   "outputs": [
    {
     "data": {
      "text/plain": [
       "<Figure size 432x288 with 0 Axes>"
      ]
     },
     "metadata": {},
     "output_type": "display_data"
    },
    {
     "data": {
      "image/png": "[encoded data removed]",
      "text/plain": [
       "<Figure size 432x288 with 1 Axes>"
      ]
     },
     "metadata": {
      "needs_background": "light"
     },
     "output_type": "display_data"
    }
   ],
   "source": [
    "plt.figure()\n",
    "df_drop.plot.scatter('ale', 'anchor_ratio')\n",
    "plt.xlabel('ALE')\n",
    "plt.ylabel('Trans Range')\n",
    "plt.show()"
   ]
  },
  {
   "cell_type": "markdown",
   "id": "bd78a969",
   "metadata": {},
   "source": [
    "ALE and Anchor Ratio are posititvely correlated"
   ]
  },
  {
   "cell_type": "markdown",
   "id": "6af6bfc5",
   "metadata": {},
   "source": [
    "I plan to use the dataset to detect any unusual data and remove them from the calculations. After that, I will compare the summary statistics and graphs and record the observations."
   ]
  },
  {
   "cell_type": "code",
   "execution_count": null,
   "id": "0d29af9c",
   "metadata": {},
   "outputs": [],
   "source": []
  }
 ],
 "metadata": {
  "kernelspec": {
   "display_name": "Python 3 (ipykernel)",
   "language": "python",
   "name": "python3"
  },
  "language_info": {
   "codemirror_mode": {
    "name": "ipython",
    "version": 3
   },
   "file_extension": ".py",
   "mimetype": "text/x-python",
   "name": "python",
   "nbconvert_exporter": "python",
   "pygments_lexer": "ipython3",
   "version": "3.9.7"
  }
 },
 "nbformat": 4,
 "nbformat_minor": 5
}
